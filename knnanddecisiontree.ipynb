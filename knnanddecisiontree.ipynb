{
 "cells": [
  {
   "cell_type": "markdown",
   "metadata": {},
   "source": [
    "### Step 1:  Install the neccesary libraries"
   ]
  },
  {
   "cell_type": "code",
   "execution_count": 1,
   "metadata": {},
   "outputs": [
    {
     "name": "stdout",
     "output_type": "stream",
     "text": [
      "Requirement already satisfied: pandas in /Users/siewla/.pyenv/versions/3.10.6/lib/python3.10/site-packages (2.2.2)\n",
      "Requirement already satisfied: numpy>=1.22.4 in /Users/siewla/.pyenv/versions/3.10.6/lib/python3.10/site-packages (from pandas) (1.26.4)\n",
      "Requirement already satisfied: python-dateutil>=2.8.2 in /Users/siewla/.pyenv/versions/3.10.6/lib/python3.10/site-packages (from pandas) (2.9.0.post0)\n",
      "Requirement already satisfied: pytz>=2020.1 in /Users/siewla/.pyenv/versions/3.10.6/lib/python3.10/site-packages (from pandas) (2024.1)\n",
      "Requirement already satisfied: tzdata>=2022.7 in /Users/siewla/.pyenv/versions/3.10.6/lib/python3.10/site-packages (from pandas) (2024.1)\n",
      "Requirement already satisfied: six>=1.5 in /Users/siewla/.pyenv/versions/3.10.6/lib/python3.10/site-packages (from python-dateutil>=2.8.2->pandas) (1.16.0)\n",
      "Note: you may need to restart the kernel to use updated packages.\n"
     ]
    }
   ],
   "source": [
    "pip install pandas"
   ]
  },
  {
   "cell_type": "code",
   "execution_count": 2,
   "metadata": {},
   "outputs": [
    {
     "name": "stdout",
     "output_type": "stream",
     "text": [
      "Requirement already satisfied: openpyxl in /Users/siewla/.pyenv/versions/3.10.6/lib/python3.10/site-packages (3.1.3)\n",
      "Requirement already satisfied: et-xmlfile in /Users/siewla/.pyenv/versions/3.10.6/lib/python3.10/site-packages (from openpyxl) (1.1.0)\n",
      "Note: you may need to restart the kernel to use updated packages.\n"
     ]
    }
   ],
   "source": [
    "pip install openpyxl"
   ]
  },
  {
   "cell_type": "markdown",
   "metadata": {},
   "source": [
    "### Step 2:  Import the necessary libraries"
   ]
  },
  {
   "cell_type": "code",
   "execution_count": 3,
   "metadata": {},
   "outputs": [],
   "source": [
    "import pandas as pd"
   ]
  },
  {
   "cell_type": "markdown",
   "metadata": {},
   "source": [
    "### Step 3:  Read the xlsx files"
   ]
  },
  {
   "cell_type": "code",
   "execution_count": 4,
   "metadata": {},
   "outputs": [],
   "source": [
    "textSummary = pd.read_excel('text_summary_datasets_v2.xlsx')\n",
    "trainingData = pd.read_excel('training_data_v2.xlsx')"
   ]
  },
  {
   "cell_type": "markdown",
   "metadata": {},
   "source": [
    "### Step 4:  Explore the data\n"
   ]
  },
  {
   "cell_type": "code",
   "execution_count": 5,
   "metadata": {},
   "outputs": [
    {
     "name": "stdout",
     "output_type": "stream",
     "text": [
      "Text Summary\n",
      "   Index                                          Paragraph  \\\n",
      "0      0  the diagnosis of vkh was made according to the...   \n",
      "1      1  changes in the is / os junction , the cost lin...   \n",
      "2      2  twenty - nine patients ( 15 males and 14 femal...   \n",
      "3      3  our analysis revealed a strong correlation bet...   \n",
      "4      4  better oct findings correlated to better visio...   \n",
      "\n",
      "                                             Summary  Category  \n",
      "0  The diagnosis of VKH followed revised diagnost...         0  \n",
      "1  The study assessed changes in the IS/OS juncti...         0  \n",
      "2  The study included 29 patients (15 males, 14 f...         0  \n",
      "3  Our analysis demonstrated a strong correlation...         0  \n",
      "4  Better OCT findings were associated with impro...         0  \n",
      "<class 'pandas.core.frame.DataFrame'>\n",
      "RangeIndex: 200 entries, 0 to 199\n",
      "Data columns (total 4 columns):\n",
      " #   Column     Non-Null Count  Dtype \n",
      "---  ------     --------------  ----- \n",
      " 0   Index      200 non-null    int64 \n",
      " 1   Paragraph  200 non-null    object\n",
      " 2   Summary    199 non-null    object\n",
      " 3   Category   200 non-null    int64 \n",
      "dtypes: int64(2), object(2)\n",
      "memory usage: 6.4+ KB\n",
      "None\n",
      "\n",
      "\n",
      "Training Data\n",
      "   Index  Category     dim_1     dim_2     dim_3     dim_4     dim_5  \\\n",
      "0      0         0 -0.882278 -0.647234  0.050173 -0.448188 -0.175582   \n",
      "1      1         0 -0.702665 -0.462591  0.162085 -0.029182 -0.280842   \n",
      "2      2         0 -0.327257 -0.397209  0.035037 -0.064671 -0.435734   \n",
      "3      3         0 -0.793734 -0.470964 -0.278644 -0.292047 -0.565868   \n",
      "4      4         0 -0.272840 -0.556684  0.001737 -0.229906 -0.495732   \n",
      "\n",
      "      dim_6     dim_7     dim_8  ...   dim_759   dim_760   dim_761   dim_762  \\\n",
      "0  0.125284 -0.335781 -0.396106  ...  0.568470 -0.326577  0.026089 -0.407658   \n",
      "1  0.047459  0.109864 -0.540210  ...  0.249440 -0.422917  0.033820 -0.226271   \n",
      "2  0.535525  0.134867 -0.213102  ...  0.710835 -0.191510 -0.068998 -0.262279   \n",
      "3  0.546791  0.604674 -0.069190  ...  0.387789 -0.596448 -0.291108 -0.320205   \n",
      "4  0.176596 -0.141926 -0.352247  ...  0.660122 -0.534026  0.347033 -0.279629   \n",
      "\n",
      "    dim_763   dim_764   dim_765   dim_766   dim_767   dim_768  \n",
      "0 -0.162295 -0.121949 -0.386429  0.135763  0.516049  0.731324  \n",
      "1 -0.324386 -0.036914 -0.588373 -0.344278  0.329853  0.195897  \n",
      "2 -0.214397  0.095195 -0.503536  0.142249  0.206015  0.182094  \n",
      "3 -0.362207  0.179917 -0.600026 -0.200465  0.776508 -0.155819  \n",
      "4 -0.397189  0.226515 -0.547098  0.431136  0.102714  0.422797  \n",
      "\n",
      "[5 rows x 770 columns]\n",
      "<class 'pandas.core.frame.DataFrame'>\n",
      "RangeIndex: 200 entries, 0 to 199\n",
      "Columns: 770 entries, Index to dim_768\n",
      "dtypes: float64(768), int64(2)\n",
      "memory usage: 1.2 MB\n",
      "None\n"
     ]
    }
   ],
   "source": [
    "print('Text Summary')\n",
    "print(textSummary.head())\n",
    "print(textSummary.info())\n",
    "print('\\n')\n",
    "print('Training Data')\n",
    "print(trainingData.head())\n",
    "print(trainingData.info())\n"
   ]
  },
  {
   "cell_type": "markdown",
   "metadata": {},
   "source": [
    "### Step 5:  Apply KNN and Decision Tree\n"
   ]
  },
  {
   "cell_type": "code",
   "execution_count": 6,
   "metadata": {},
   "outputs": [],
   "source": [
    "from sklearn.model_selection import train_test_split\n",
    "from sklearn.neighbors import KNeighborsClassifier\n",
    "from sklearn.tree import DecisionTreeClassifier\n",
    "from sklearn.metrics import accuracy_score, classification_report\n",
    "from sklearn.model_selection import GridSearchCV\n"
   ]
  },
  {
   "cell_type": "code",
   "execution_count": 7,
   "metadata": {},
   "outputs": [
    {
     "name": "stdout",
     "output_type": "stream",
     "text": [
      "Best value of n_neighbors: 3\n",
      "KNN Classifier\n",
      "Accuracy: 0.9\n",
      "              precision    recall  f1-score   support\n",
      "\n",
      "           0       0.86      1.00      0.92         6\n",
      "           1       1.00      0.87      0.93        15\n",
      "           2       1.00      0.78      0.88         9\n",
      "           3       0.77      1.00      0.87        10\n",
      "\n",
      "    accuracy                           0.90        40\n",
      "   macro avg       0.91      0.91      0.90        40\n",
      "weighted avg       0.92      0.90      0.90        40\n",
      "\n",
      "\n",
      "\n",
      "Decision Tree Classifier\n",
      "Accuracy: 0.625\n",
      "              precision    recall  f1-score   support\n",
      "\n",
      "           0       0.62      0.83      0.71         6\n",
      "           1       0.92      0.80      0.86        15\n",
      "           2       0.20      0.11      0.14         9\n",
      "           3       0.50      0.70      0.58        10\n",
      "\n",
      "    accuracy                           0.62        40\n",
      "   macro avg       0.56      0.61      0.57        40\n",
      "weighted avg       0.61      0.62      0.61        40\n",
      "\n"
     ]
    }
   ],
   "source": [
    "# split the data containing bert embeddings and category labels\n",
    "x = trainingData.drop(columns=[\"Index\",\"Category\"]) # bert embeddings as features\n",
    "y = trainingData[\"Category\"] # target labels (0, 1, 2, 3)\n",
    "\n",
    "# Split the data into training and testing sets\n",
    "# 20% of the data will be used for testing\n",
    "# 80% of the data will be used for training\n",
    "x_train, x_test, y_train, y_test = train_test_split(x, y, test_size=0.2, random_state=42)\n",
    "\n",
    "\n",
    "# Define range of n_neighbors values to search\n",
    "param_grid = {'n_neighbors': [3, 5, 7, 9, 11]}\n",
    "\n",
    "# Initialize KNN classifier\n",
    "knn_classifier = KNeighborsClassifier()\n",
    "\n",
    "# Perform grid search to find the best value of n_neighbors\n",
    "grid_search = GridSearchCV(knn_classifier, param_grid, cv=5, scoring='accuracy')\n",
    "grid_search.fit(x_train, y_train)\n",
    "\n",
    "# Get the best value of n_neighbors\n",
    "best_n_neighbors = grid_search.best_params_['n_neighbors']\n",
    "print(\"Best value of n_neighbors:\", best_n_neighbors)\n",
    "\n",
    "# train KNN classifier\n",
    "knn = KNeighborsClassifier(n_neighbors=best_n_neighbors)\n",
    "knn.fit(x_train, y_train)\n",
    "\n",
    "# train decision tree classifier\n",
    "dt = DecisionTreeClassifier()\n",
    "dt.fit(x_train, y_train)\n",
    "\n",
    "# test and evaluate the KNN classifier\n",
    "knn_pred = knn.predict(x_test)\n",
    "knn_accuracy = accuracy_score(y_test, knn_pred)\n",
    "knn_classification_report = classification_report(y_test, knn_pred)\n",
    "\n",
    "# test and evaluate the decision tree classifier\n",
    "dt_pred = dt.predict(x_test)\n",
    "dt_accuracy = accuracy_score(y_test, dt_pred)\n",
    "dt_classification_report = classification_report(y_test, dt_pred)\n",
    "\n",
    "\n",
    "# print evaluation results\n",
    "print('KNN Classifier')\n",
    "print('Accuracy:', knn_accuracy)\n",
    "print(knn_classification_report)\n",
    "print('\\n')\n",
    "print('Decision Tree Classifier')\n",
    "print('Accuracy:', dt_accuracy)\n",
    "print(dt_classification_report)"
   ]
  },
  {
   "cell_type": "markdown",
   "metadata": {},
   "source": [
    "### Step 6:  Results\n",
    "\n",
    "Best value of n_neighbors: 3\n",
    "KNN Classifier\n",
    "Accuracy: 0.9\n",
    "\n",
    "|           | precision | recall | f1-score | support |\n",
    "|-----------|-----------|--------|----------|---------|\n",
    "|      0    |    0.86   |  1.00  |   0.92   |    6    |\n",
    "|      1    |    1.00   |  0.87  |   0.93   |   15    |\n",
    "|      2    |    1.00   |  0.78  |   0.88   |    9    |\n",
    "|      3    |    0.77   |  1.00  |   0.87   |   10    |\n",
    "|-----------|-----------|--------|----------|---------|\n",
    "|  accuracy |           |        |   0.90   |    40   |\n",
    "| macro avg |    0.91   |  0.91  |   0.90   |    40   |\n",
    "|weighted avg|  0.92   |  0.90  |   0.90   |    40   |\n",
    "\n",
    "Decision Tree Classifier\n",
    "Accuracy: 0.625\n",
    "|           | precision | recall | f1-score | support |\n",
    "|-----------|-----------|--------|----------|---------|\n",
    "|      0    |    0.62   |  0.83  |   0.71   |    6    |\n",
    "|      1    |    0.92   |  0.80  |   0.86   |   15    |\n",
    "|      2    |    0.20   |  0.11  |   0.14   |    9    |\n",
    "|      3    |    0.50   |  0.70  |   0.58   |   10    |\n",
    "|-----------|-----------|--------|----------|---------|\n",
    "|  accuracy |           |        |   0.62   |    40   |\n",
    "| macro avg |    0.56   |  0.61  |   0.57   |    40   |\n",
    "|weighted avg|  0.61   |  0.62  |   0.61   |    40   |"
   ]
  },
  {
   "cell_type": "markdown",
   "metadata": {},
   "source": [
    "### Step 7:  Initial evaluation\n",
    "\n",
    "#### KNN Classifier:\n",
    "1. Category 0 (Healthcare):\n",
    "- Precision of 0.86 indicates that when the classifier predicts a data point as belonging to healthcare, it is correct around 86% of the time.\n",
    "- Recall of 1.00 suggests that the classifier effectively captures all true healthcare instances.\n",
    "- F1-score of 0.92 balances precision and recall, providing a single metric for evaluation.\n",
    "\n",
    "2. Category 1 (AI):\n",
    "- High precision of 1.00 signifies that nearly all instances predicted as AI are indeed AI-related.\n",
    "- Recall of 0.87 implies that the classifier captures a significant portion of true AI instances.\n",
    "- F1-score of 0.93 reflects a strong balance between precision and recall.\n",
    "\n",
    "3. Category 2 (IoT):\n",
    "- Precision of 1.00 indicates high accuracy in predicting IoT instances.\n",
    "- Recall of 0.78 suggests that the classifier captures a good portion of true IoT instances but misses some.\n",
    "- F1-score of 0.88 reflects a relatively high performance in this category.\n",
    "\n",
    "4. Category 3 (Blockchain):\n",
    "- Precision of 0.77 indicates that the classifier is moderately accurate in predicting blockchain instances.\n",
    "- Perfect recall of 1.00 implies that the classifier captures all true blockchain instances.\n",
    "- F1-score of 0.87 balances precision and recall effectively.\n",
    "\n",
    "\n",
    "#### Decision Tree Classifier:\n",
    "1. Category 0 (Healthcare):\n",
    "- Moderate precision of 0.62 suggests that the classifier's healthcare predictions are correct around 62% of the time.\n",
    "- Recall of 0.83 indicates that the classifier captures a good portion of true healthcare instances.\n",
    "- F1-score of 0.71 reflects a balanced performance in this category.\n",
    "\n",
    "2. Category 1 (AI):\n",
    "- High precision of 0.92 indicates strong accuracy in predicting AI instances.\n",
    "- Recall of 0.80 implies that the classifier captures most true AI instances but misses some.\n",
    "- F1-score of 0.86 reflects a good balance between precision and recall.\n",
    "\n",
    "3. Category 2 (IoT):\n",
    "- Low precision of 0.20 indicates that the classifier's IoT predictions are inaccurate most of the time.\n",
    "- Recall of 0.11 suggests that the classifier misses the majority of true IoT instances.\n",
    "- Very low F1-score of 0.14 highlights poor performance in this category.\n",
    "\n",
    "4. Category 3 (Blockchain):\n",
    "- Precision of 0.50 suggests moderate accuracy in predicting blockchain instances.\n",
    "- Recall of 0.70 indicates that the classifier captures a good portion of true blockchain instances.\n",
    "- F1-score of 0.58 reflects a moderate balance between precision and recall.\n",
    "\n",
    "\n",
    "In summary, while both classifiers perform well in certain categories, the KNN Classifier generally outperforms the Decision Tree Classifier across all categories, especially in predicting IoT instances where the Decision Tree Classifier performs poorly.\n"
   ]
  }
 ],
 "metadata": {
  "kernelspec": {
   "display_name": "Python 3",
   "language": "python",
   "name": "python3"
  },
  "language_info": {
   "codemirror_mode": {
    "name": "ipython",
    "version": 3
   },
   "file_extension": ".py",
   "mimetype": "text/x-python",
   "name": "python",
   "nbconvert_exporter": "python",
   "pygments_lexer": "ipython3",
   "version": "3.10.6"
  }
 },
 "nbformat": 4,
 "nbformat_minor": 2
}
