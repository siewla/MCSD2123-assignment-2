{
  "cells": [
    {
      "cell_type": "code",
      "execution_count": 1,
      "metadata": {
        "colab": {
          "base_uri": "https://localhost:8080/"
        },
        "id": "prTG6xHHvZ9_",
        "outputId": "15052d4c-910c-4fb5-aff9-197f26b6a9a4"
      },
      "outputs": [
        {
          "name": "stdout",
          "output_type": "stream",
          "text": [
            "Requirement already satisfied: pandas in /Users/siewla/.pyenv/versions/3.10.6/lib/python3.10/site-packages (2.2.2)\n",
            "Requirement already satisfied: numpy>=1.22.4 in /Users/siewla/.pyenv/versions/3.10.6/lib/python3.10/site-packages (from pandas) (1.26.4)\n",
            "Requirement already satisfied: python-dateutil>=2.8.2 in /Users/siewla/.pyenv/versions/3.10.6/lib/python3.10/site-packages (from pandas) (2.9.0.post0)\n",
            "Requirement already satisfied: pytz>=2020.1 in /Users/siewla/.pyenv/versions/3.10.6/lib/python3.10/site-packages (from pandas) (2024.1)\n",
            "Requirement already satisfied: tzdata>=2022.7 in /Users/siewla/.pyenv/versions/3.10.6/lib/python3.10/site-packages (from pandas) (2024.1)\n",
            "Requirement already satisfied: six>=1.5 in /Users/siewla/.pyenv/versions/3.10.6/lib/python3.10/site-packages (from python-dateutil>=2.8.2->pandas) (1.16.0)\n",
            "Requirement already satisfied: openpyxl in /Users/siewla/.pyenv/versions/3.10.6/lib/python3.10/site-packages (3.1.3)\n",
            "Requirement already satisfied: et-xmlfile in /Users/siewla/.pyenv/versions/3.10.6/lib/python3.10/site-packages (from openpyxl) (1.1.0)\n"
          ]
        }
      ],
      "source": [
        "# Install the necessary libraries\n",
        "!pip install pandas\n",
        "!pip install openpyxl"
      ]
    },
    {
      "cell_type": "code",
      "execution_count": 2,
      "metadata": {
        "id": "ByG5wBPdv4O2"
      },
      "outputs": [],
      "source": [
        "# Import the necessary libraries\n",
        "import numpy as np\n",
        "import pandas as pd\n",
        "from sklearn.model_selection import train_test_split\n",
        "from sklearn.ensemble import RandomForestClassifier\n",
        "from sklearn.svm import SVC\n",
        "from sklearn.metrics import accuracy_score, confusion_matrix, classification_report"
      ]
    },
    {
      "cell_type": "code",
      "execution_count": 3,
      "metadata": {
        "id": "8XCIGCP4wV1l"
      },
      "outputs": [],
      "source": [
        "# Read the xlsx files\n",
        "text_summary_data = pd.read_excel('text_summary_datasets_v2.xlsx')\n",
        "training_data = pd.read_excel('training_data_v2.xlsx')"
      ]
    },
    {
      "cell_type": "code",
      "execution_count": 4,
      "metadata": {
        "colab": {
          "base_uri": "https://localhost:8080/",
          "height": 256
        },
        "id": "wLtNfTxHwqT_",
        "outputId": "c4534c00-c162-4c6f-f304-202b4e775c53"
      },
      "outputs": [
        {
          "data": {
            "text/html": [
              "<div>\n",
              "<style scoped>\n",
              "    .dataframe tbody tr th:only-of-type {\n",
              "        vertical-align: middle;\n",
              "    }\n",
              "\n",
              "    .dataframe tbody tr th {\n",
              "        vertical-align: top;\n",
              "    }\n",
              "\n",
              "    .dataframe thead th {\n",
              "        text-align: right;\n",
              "    }\n",
              "</style>\n",
              "<table border=\"1\" class=\"dataframe\">\n",
              "  <thead>\n",
              "    <tr style=\"text-align: right;\">\n",
              "      <th></th>\n",
              "      <th>Index</th>\n",
              "      <th>Category</th>\n",
              "      <th>dim_1</th>\n",
              "      <th>dim_2</th>\n",
              "      <th>dim_3</th>\n",
              "      <th>dim_4</th>\n",
              "      <th>dim_5</th>\n",
              "      <th>dim_6</th>\n",
              "      <th>dim_7</th>\n",
              "      <th>dim_8</th>\n",
              "      <th>...</th>\n",
              "      <th>dim_759</th>\n",
              "      <th>dim_760</th>\n",
              "      <th>dim_761</th>\n",
              "      <th>dim_762</th>\n",
              "      <th>dim_763</th>\n",
              "      <th>dim_764</th>\n",
              "      <th>dim_765</th>\n",
              "      <th>dim_766</th>\n",
              "      <th>dim_767</th>\n",
              "      <th>dim_768</th>\n",
              "    </tr>\n",
              "  </thead>\n",
              "  <tbody>\n",
              "    <tr>\n",
              "      <th>0</th>\n",
              "      <td>0</td>\n",
              "      <td>0</td>\n",
              "      <td>-0.882278</td>\n",
              "      <td>-0.647234</td>\n",
              "      <td>0.050173</td>\n",
              "      <td>-0.448188</td>\n",
              "      <td>-0.175582</td>\n",
              "      <td>0.125284</td>\n",
              "      <td>-0.335781</td>\n",
              "      <td>-0.396106</td>\n",
              "      <td>...</td>\n",
              "      <td>0.568470</td>\n",
              "      <td>-0.326577</td>\n",
              "      <td>0.026089</td>\n",
              "      <td>-0.407658</td>\n",
              "      <td>-0.162295</td>\n",
              "      <td>-0.121949</td>\n",
              "      <td>-0.386429</td>\n",
              "      <td>0.135763</td>\n",
              "      <td>0.516049</td>\n",
              "      <td>0.731324</td>\n",
              "    </tr>\n",
              "    <tr>\n",
              "      <th>1</th>\n",
              "      <td>1</td>\n",
              "      <td>0</td>\n",
              "      <td>-0.702665</td>\n",
              "      <td>-0.462591</td>\n",
              "      <td>0.162085</td>\n",
              "      <td>-0.029182</td>\n",
              "      <td>-0.280842</td>\n",
              "      <td>0.047459</td>\n",
              "      <td>0.109864</td>\n",
              "      <td>-0.540210</td>\n",
              "      <td>...</td>\n",
              "      <td>0.249440</td>\n",
              "      <td>-0.422917</td>\n",
              "      <td>0.033820</td>\n",
              "      <td>-0.226271</td>\n",
              "      <td>-0.324386</td>\n",
              "      <td>-0.036914</td>\n",
              "      <td>-0.588373</td>\n",
              "      <td>-0.344278</td>\n",
              "      <td>0.329853</td>\n",
              "      <td>0.195897</td>\n",
              "    </tr>\n",
              "    <tr>\n",
              "      <th>2</th>\n",
              "      <td>2</td>\n",
              "      <td>0</td>\n",
              "      <td>-0.327257</td>\n",
              "      <td>-0.397209</td>\n",
              "      <td>0.035037</td>\n",
              "      <td>-0.064671</td>\n",
              "      <td>-0.435734</td>\n",
              "      <td>0.535525</td>\n",
              "      <td>0.134867</td>\n",
              "      <td>-0.213102</td>\n",
              "      <td>...</td>\n",
              "      <td>0.710835</td>\n",
              "      <td>-0.191510</td>\n",
              "      <td>-0.068998</td>\n",
              "      <td>-0.262279</td>\n",
              "      <td>-0.214397</td>\n",
              "      <td>0.095195</td>\n",
              "      <td>-0.503536</td>\n",
              "      <td>0.142249</td>\n",
              "      <td>0.206015</td>\n",
              "      <td>0.182094</td>\n",
              "    </tr>\n",
              "    <tr>\n",
              "      <th>3</th>\n",
              "      <td>3</td>\n",
              "      <td>0</td>\n",
              "      <td>-0.793734</td>\n",
              "      <td>-0.470964</td>\n",
              "      <td>-0.278644</td>\n",
              "      <td>-0.292047</td>\n",
              "      <td>-0.565868</td>\n",
              "      <td>0.546791</td>\n",
              "      <td>0.604674</td>\n",
              "      <td>-0.069190</td>\n",
              "      <td>...</td>\n",
              "      <td>0.387789</td>\n",
              "      <td>-0.596448</td>\n",
              "      <td>-0.291108</td>\n",
              "      <td>-0.320205</td>\n",
              "      <td>-0.362207</td>\n",
              "      <td>0.179917</td>\n",
              "      <td>-0.600026</td>\n",
              "      <td>-0.200465</td>\n",
              "      <td>0.776508</td>\n",
              "      <td>-0.155819</td>\n",
              "    </tr>\n",
              "    <tr>\n",
              "      <th>4</th>\n",
              "      <td>4</td>\n",
              "      <td>0</td>\n",
              "      <td>-0.272840</td>\n",
              "      <td>-0.556684</td>\n",
              "      <td>0.001737</td>\n",
              "      <td>-0.229906</td>\n",
              "      <td>-0.495732</td>\n",
              "      <td>0.176596</td>\n",
              "      <td>-0.141926</td>\n",
              "      <td>-0.352247</td>\n",
              "      <td>...</td>\n",
              "      <td>0.660122</td>\n",
              "      <td>-0.534026</td>\n",
              "      <td>0.347033</td>\n",
              "      <td>-0.279629</td>\n",
              "      <td>-0.397189</td>\n",
              "      <td>0.226515</td>\n",
              "      <td>-0.547098</td>\n",
              "      <td>0.431136</td>\n",
              "      <td>0.102714</td>\n",
              "      <td>0.422797</td>\n",
              "    </tr>\n",
              "  </tbody>\n",
              "</table>\n",
              "<p>5 rows × 770 columns</p>\n",
              "</div>"
            ],
            "text/plain": [
              "   Index  Category     dim_1     dim_2     dim_3     dim_4     dim_5  \\\n",
              "0      0         0 -0.882278 -0.647234  0.050173 -0.448188 -0.175582   \n",
              "1      1         0 -0.702665 -0.462591  0.162085 -0.029182 -0.280842   \n",
              "2      2         0 -0.327257 -0.397209  0.035037 -0.064671 -0.435734   \n",
              "3      3         0 -0.793734 -0.470964 -0.278644 -0.292047 -0.565868   \n",
              "4      4         0 -0.272840 -0.556684  0.001737 -0.229906 -0.495732   \n",
              "\n",
              "      dim_6     dim_7     dim_8  ...   dim_759   dim_760   dim_761   dim_762  \\\n",
              "0  0.125284 -0.335781 -0.396106  ...  0.568470 -0.326577  0.026089 -0.407658   \n",
              "1  0.047459  0.109864 -0.540210  ...  0.249440 -0.422917  0.033820 -0.226271   \n",
              "2  0.535525  0.134867 -0.213102  ...  0.710835 -0.191510 -0.068998 -0.262279   \n",
              "3  0.546791  0.604674 -0.069190  ...  0.387789 -0.596448 -0.291108 -0.320205   \n",
              "4  0.176596 -0.141926 -0.352247  ...  0.660122 -0.534026  0.347033 -0.279629   \n",
              "\n",
              "    dim_763   dim_764   dim_765   dim_766   dim_767   dim_768  \n",
              "0 -0.162295 -0.121949 -0.386429  0.135763  0.516049  0.731324  \n",
              "1 -0.324386 -0.036914 -0.588373 -0.344278  0.329853  0.195897  \n",
              "2 -0.214397  0.095195 -0.503536  0.142249  0.206015  0.182094  \n",
              "3 -0.362207  0.179917 -0.600026 -0.200465  0.776508 -0.155819  \n",
              "4 -0.397189  0.226515 -0.547098  0.431136  0.102714  0.422797  \n",
              "\n",
              "[5 rows x 770 columns]"
            ]
          },
          "execution_count": 4,
          "metadata": {},
          "output_type": "execute_result"
        }
      ],
      "source": [
        "# Displaying the first few rows of the training data\n",
        "training_data.head()"
      ]
    },
    {
      "cell_type": "code",
      "execution_count": 5,
      "metadata": {
        "id": "2dc0d30y0gkn"
      },
      "outputs": [],
      "source": [
        "# Splitting the dataset into features (X) and target (y)\n",
        "x = training_data.drop(columns=[\"Index\",\"Category\"])\n",
        "y = training_data[\"Category\"]"
      ]
    },
    {
      "cell_type": "code",
      "execution_count": 6,
      "metadata": {
        "id": "a3b16AOO1IX3"
      },
      "outputs": [],
      "source": [
        "# Splitting the dataset into training and testing sets\n",
        "X_train, X_test, y_train, y_test = train_test_split(x, y, test_size=0.3, random_state=42)"
      ]
    },
    {
      "cell_type": "code",
      "execution_count": 7,
      "metadata": {
        "colab": {
          "base_uri": "https://localhost:8080/"
        },
        "id": "eDv_zC-31UMR",
        "outputId": "fcac43ad-d8b4-4421-9575-afd398b9090b"
      },
      "outputs": [
        {
          "name": "stdout",
          "output_type": "stream",
          "text": [
            "Random Forest Classifier\n",
            "Accuracy: 0.9\n",
            "Confusion Matrix:\n",
            "[[11  0  0  0]\n",
            " [ 1 17  2  0]\n",
            " [ 0  1 14  0]\n",
            " [ 0  2  0 12]]\n",
            "Classification Report:\n",
            "              precision    recall  f1-score   support\n",
            "\n",
            "           0       0.92      1.00      0.96        11\n",
            "           1       0.85      0.85      0.85        20\n",
            "           2       0.88      0.93      0.90        15\n",
            "           3       1.00      0.86      0.92        14\n",
            "\n",
            "    accuracy                           0.90        60\n",
            "   macro avg       0.91      0.91      0.91        60\n",
            "weighted avg       0.90      0.90      0.90        60\n",
            "\n"
          ]
        }
      ],
      "source": [
        "## Random Forest Classifier\n",
        "# Initializing the Random Forest classifier\n",
        "rf_clf = RandomForestClassifier(n_estimators=100, random_state=42)\n",
        "\n",
        "# Training the model\n",
        "rf_clf.fit(X_train, y_train)\n",
        "\n",
        "# Making predictions\n",
        "rf_y_pred = rf_clf.predict(X_test)\n",
        "\n",
        "# Evaluating the model\n",
        "rf_accuracy = accuracy_score(y_test, rf_y_pred)\n",
        "rf_conf_matrix = confusion_matrix(y_test, rf_y_pred)\n",
        "rf_class_report = classification_report(y_test, rf_y_pred)\n",
        "\n",
        "print(\"Random Forest Classifier\")\n",
        "print(f\"Accuracy: {rf_accuracy}\")\n",
        "print(\"Confusion Matrix:\")\n",
        "print(rf_conf_matrix)\n",
        "print(\"Classification Report:\")\n",
        "print(rf_class_report)"
      ]
    },
    {
      "cell_type": "code",
      "execution_count": 8,
      "metadata": {
        "colab": {
          "base_uri": "https://localhost:8080/"
        },
        "id": "YXQs8smW1c-V",
        "outputId": "119b9343-ac6b-4504-e1df-c4ee538f05bd"
      },
      "outputs": [
        {
          "name": "stdout",
          "output_type": "stream",
          "text": [
            "\n",
            "Support Vector Machine Classifier\n",
            "Accuracy: 0.9833333333333333\n",
            "Confusion Matrix:\n",
            "[[11  0  0  0]\n",
            " [ 1 19  0  0]\n",
            " [ 0  0 15  0]\n",
            " [ 0  0  0 14]]\n",
            "Classification Report:\n",
            "              precision    recall  f1-score   support\n",
            "\n",
            "           0       0.92      1.00      0.96        11\n",
            "           1       1.00      0.95      0.97        20\n",
            "           2       1.00      1.00      1.00        15\n",
            "           3       1.00      1.00      1.00        14\n",
            "\n",
            "    accuracy                           0.98        60\n",
            "   macro avg       0.98      0.99      0.98        60\n",
            "weighted avg       0.98      0.98      0.98        60\n",
            "\n"
          ]
        }
      ],
      "source": [
        "## Support Vector Machine Classifier\n",
        "# Initializing the SVM classifier\n",
        "svm_clf = SVC(kernel='linear', random_state=42)\n",
        "\n",
        "# Training the model\n",
        "svm_clf.fit(X_train, y_train)\n",
        "\n",
        "# Making predictions\n",
        "svm_y_pred = svm_clf.predict(X_test)\n",
        "\n",
        "# Evaluating the model\n",
        "svm_accuracy = accuracy_score(y_test, svm_y_pred)\n",
        "svm_conf_matrix = confusion_matrix(y_test, svm_y_pred)\n",
        "svm_class_report = classification_report(y_test, svm_y_pred)\n",
        "\n",
        "print(\"\\nSupport Vector Machine Classifier\")\n",
        "print(f\"Accuracy: {svm_accuracy}\")\n",
        "print(\"Confusion Matrix:\")\n",
        "print(svm_conf_matrix)\n",
        "print(\"Classification Report:\")\n",
        "print(svm_class_report)"
      ]
    },
    {
      "cell_type": "markdown",
      "metadata": {
        "id": "ifVZ_NgL5DPd"
      },
      "source": [
        "**Random Forest Classifier**\n",
        "\n",
        "Category 0:\n",
        "* Precision: 0.92 indicates that when the classifier predicts a data point as belonging to this category, it is correct 92% of the time.\n",
        "* Recall: 1.00 suggests that the classifier effectively captures all true instances of this category.\n",
        "* F1-score: 0.96 balances precision and recall, providing a high performance metric.\n",
        "\n",
        "Category 1:\n",
        "* Precision: 0.85 signifies that when the classifier predicts this category, it is correct 85% of the time.\n",
        "* Recall: 0.85 implies that the classifier captures 85% of the true instances of this category.\n",
        "* F1-score: 0.85 reflects a balanced performance for precision and recall.\n",
        "\n",
        "Category 2:\n",
        "* Precision: 0.88 indicates that predictions for this category are correct 88% of the time.\n",
        "* Recall: 0.93 suggests the classifier captures 93% of the true instances of this category.\n",
        "* F1-score: 0.90 shows a strong balance between precision and recall.\n",
        "\n",
        "Category 3:\n",
        "* Precision: 1.00 indicates perfect accuracy in predicting this category.\n",
        "* Recall: 0.86 suggests the classifier captures 86% of the true instances.\n",
        "* F1-score: 0.92 balances precision and recall effectively.\n",
        "\n",
        "\n",
        "**Support Vector Machine Classifier**\n",
        "\n",
        "Category 0:\n",
        "* Precision: 0.92 indicates that when the classifier predicts a data point as belonging to this category, it is correct 92% of the time.\n",
        "* Recall: 1.00 suggests that the classifier effectively captures all true instances of this category.\n",
        "* F1-score: 0.96 balances precision and recall, providing a high performance metric.\n",
        "\n",
        "Category 1:\n",
        "* Precision: 1.00 signifies that when the classifier predicts this category, it is correct 100% of the time.\n",
        "* Recall: 0.95 implies that the classifier captures 95% of the true instances of this category.\n",
        "* F1-score: 0.97 reflects a balanced performance for precision and recall.\n",
        "\n",
        "Category 2:\n",
        "* Precision: 1.00 indicates perfect accuracy in predicting this category.\n",
        "* Recall: 1.00 suggests the classifier captures all true instances of this category.\n",
        "* F1-score: 1.00 shows an excellent balance between precision and recall.\n",
        "\n",
        "Category 3:\n",
        "* Precision: 1.00 indicates perfect accuracy in predicting this category.\n",
        "* Recall: 1.00 suggests the classifier captures all true instances of this category.\n",
        "* F1-score: 1.00 balances precision and recall perfectly.\n",
        "\n",
        "Summary\n",
        "* Random Forest Classifier: Overall, the Random Forest classifier performs well, with high precision, recall, and F1-scores across all categories. However, there is a slight drop in precision for Category 1 and recall for Category 3.\n",
        "* Support Vector Machine Classifier: The SVM classifier shows exceptional performance, with near-perfect precision, recall, and F1-scores across all categories. This indicates that SVM is highly effective for this particular dataset.\n",
        "Comparing both classifiers, the SVM outperforms the Random Forest classifier in terms of overall accuracy and individual category metrics, making it a better choice for this dataset."
      ]
    }
  ],
  "metadata": {
    "colab": {
      "provenance": []
    },
    "kernelspec": {
      "display_name": "Python 3",
      "name": "python3"
    },
    "language_info": {
      "codemirror_mode": {
        "name": "ipython",
        "version": 3
      },
      "file_extension": ".py",
      "mimetype": "text/x-python",
      "name": "python",
      "nbconvert_exporter": "python",
      "pygments_lexer": "ipython3",
      "version": "3.10.6"
    }
  },
  "nbformat": 4,
  "nbformat_minor": 0
}
