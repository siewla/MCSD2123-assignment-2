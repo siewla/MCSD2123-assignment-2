{
 "cells": [
  {
   "cell_type": "markdown",
   "metadata": {},
   "source": [
    "### Step 1:  Install the neccesary libraries"
   ]
  },
  {
   "cell_type": "code",
   "execution_count": 15,
   "metadata": {},
   "outputs": [
    {
     "name": "stdout",
     "output_type": "stream",
     "text": [
      "Requirement already satisfied: pandas in /Users/siewla/.pyenv/versions/3.10.6/lib/python3.10/site-packages (2.2.2)\n",
      "Requirement already satisfied: pytz>=2020.1 in /Users/siewla/.pyenv/versions/3.10.6/lib/python3.10/site-packages (from pandas) (2024.1)\n",
      "Requirement already satisfied: tzdata>=2022.7 in /Users/siewla/.pyenv/versions/3.10.6/lib/python3.10/site-packages (from pandas) (2024.1)\n",
      "Requirement already satisfied: numpy>=1.22.4 in /Users/siewla/.pyenv/versions/3.10.6/lib/python3.10/site-packages (from pandas) (1.26.4)\n",
      "Requirement already satisfied: python-dateutil>=2.8.2 in /Users/siewla/.pyenv/versions/3.10.6/lib/python3.10/site-packages (from pandas) (2.9.0.post0)\n",
      "Requirement already satisfied: six>=1.5 in /Users/siewla/.pyenv/versions/3.10.6/lib/python3.10/site-packages (from python-dateutil>=2.8.2->pandas) (1.16.0)\n",
      "\n",
      "\u001b[1m[\u001b[0m\u001b[34;49mnotice\u001b[0m\u001b[1;39;49m]\u001b[0m\u001b[39;49m A new release of pip available: \u001b[0m\u001b[31;49m22.2.1\u001b[0m\u001b[39;49m -> \u001b[0m\u001b[32;49m24.0\u001b[0m\n",
      "\u001b[1m[\u001b[0m\u001b[34;49mnotice\u001b[0m\u001b[1;39;49m]\u001b[0m\u001b[39;49m To update, run: \u001b[0m\u001b[32;49mpip install --upgrade pip\u001b[0m\n",
      "Note: you may need to restart the kernel to use updated packages.\n"
     ]
    }
   ],
   "source": [
    "pip install pandas"
   ]
  },
  {
   "cell_type": "code",
   "execution_count": 16,
   "metadata": {},
   "outputs": [
    {
     "name": "stdout",
     "output_type": "stream",
     "text": [
      "Requirement already satisfied: openpyxl in /Users/siewla/.pyenv/versions/3.10.6/lib/python3.10/site-packages (3.1.3)\n",
      "Requirement already satisfied: et-xmlfile in /Users/siewla/.pyenv/versions/3.10.6/lib/python3.10/site-packages (from openpyxl) (1.1.0)\n",
      "\n",
      "\u001b[1m[\u001b[0m\u001b[34;49mnotice\u001b[0m\u001b[1;39;49m]\u001b[0m\u001b[39;49m A new release of pip available: \u001b[0m\u001b[31;49m22.2.1\u001b[0m\u001b[39;49m -> \u001b[0m\u001b[32;49m24.0\u001b[0m\n",
      "\u001b[1m[\u001b[0m\u001b[34;49mnotice\u001b[0m\u001b[1;39;49m]\u001b[0m\u001b[39;49m To update, run: \u001b[0m\u001b[32;49mpip install --upgrade pip\u001b[0m\n",
      "Note: you may need to restart the kernel to use updated packages.\n"
     ]
    }
   ],
   "source": [
    "pip install openpyxl"
   ]
  },
  {
   "cell_type": "markdown",
   "metadata": {},
   "source": [
    "### Step 2:  Import the necessary libraries"
   ]
  },
  {
   "cell_type": "code",
   "execution_count": 17,
   "metadata": {},
   "outputs": [],
   "source": [
    "import pandas as pd"
   ]
  },
  {
   "cell_type": "markdown",
   "metadata": {},
   "source": [
    "### Step 3:  Read the xlsx files"
   ]
  },
  {
   "cell_type": "code",
   "execution_count": 18,
   "metadata": {},
   "outputs": [],
   "source": [
    "textSummary = pd.read_excel('text_summary_datasets_v2.xlsx')\n",
    "trainingData = pd.read_excel('training_data.xlsx')"
   ]
  },
  {
   "cell_type": "markdown",
   "metadata": {},
   "source": [
    "### Step 4:  Explore the data\n"
   ]
  },
  {
   "cell_type": "code",
   "execution_count": 19,
   "metadata": {},
   "outputs": [
    {
     "name": "stdout",
     "output_type": "stream",
     "text": [
      "Text Summary\n",
      "   Index                                          Paragraph  \\\n",
      "0      0  the diagnosis of vkh was made according to the...   \n",
      "1      1  changes in the is / os junction , the cost lin...   \n",
      "2      2  twenty - nine patients ( 15 males and 14 femal...   \n",
      "3      3  our analysis revealed a strong correlation bet...   \n",
      "4      4  better oct findings correlated to better visio...   \n",
      "\n",
      "                                             Summary  Category  \n",
      "0  The diagnosis of VKH followed revised diagnost...         0  \n",
      "1  The study assessed changes in the IS/OS juncti...         0  \n",
      "2  The study included 29 patients (15 males, 14 f...         0  \n",
      "3  Our analysis demonstrated a strong correlation...         0  \n",
      "4  Better OCT findings were associated with impro...         0  \n",
      "<class 'pandas.core.frame.DataFrame'>\n",
      "RangeIndex: 200 entries, 0 to 199\n",
      "Data columns (total 4 columns):\n",
      " #   Column     Non-Null Count  Dtype \n",
      "---  ------     --------------  ----- \n",
      " 0   Index      200 non-null    int64 \n",
      " 1   Paragraph  200 non-null    object\n",
      " 2   Summary    199 non-null    object\n",
      " 3   Category   200 non-null    int64 \n",
      "dtypes: int64(2), object(2)\n",
      "memory usage: 6.4+ KB\n",
      "None\n",
      "\n",
      "\n",
      "Training Data\n",
      "   Index  Category     dim_1     dim_2     dim_3     dim_4     dim_5  \\\n",
      "0      0         0 -0.707339 -0.713796 -0.290792 -0.481274  0.046987   \n",
      "1      1         0 -0.703268 -0.604930 -0.154248  0.038495 -0.135699   \n",
      "2      2         0 -0.192647 -0.392907 -0.355344 -0.140046 -0.369999   \n",
      "3      3         0 -0.749930 -0.585907 -0.267779 -0.359248 -0.528928   \n",
      "4      4         0 -0.250791 -0.614202 -0.256434 -0.122945 -0.447085   \n",
      "\n",
      "      dim_6     dim_7     dim_8  ...   dim_759   dim_760   dim_761   dim_762  \\\n",
      "0  0.340146 -0.120771 -0.292696  ...  0.520170 -0.390512  0.099962 -0.440154   \n",
      "1  0.138853 -0.072697 -0.474036  ...  0.204919 -0.480398  0.002030  0.020686   \n",
      "2  0.479629  0.202703  0.024591  ...  0.492147 -0.437122 -0.056133 -0.270095   \n",
      "3  0.537157  0.578602 -0.071548  ...  0.271954 -0.727547 -0.271322 -0.243512   \n",
      "4  0.240375  0.032876 -0.020761  ...  0.435258 -0.780880  0.328462 -0.148573   \n",
      "\n",
      "    dim_763   dim_764   dim_765   dim_766   dim_767   dim_768  \n",
      "0 -0.223762 -0.198830 -0.440632  0.112169  0.553025  0.811234  \n",
      "1 -0.291825  0.068888 -0.497797 -0.063387  0.392707  0.305655  \n",
      "2 -0.079169  0.355002 -0.543502  0.383921  0.126220  0.376385  \n",
      "3 -0.196334  0.169826 -0.601540 -0.003194  0.699260 -0.010722  \n",
      "4 -0.234504  0.308691 -0.582798  0.752140 -0.127589  0.645819  \n",
      "\n",
      "[5 rows x 770 columns]\n",
      "<class 'pandas.core.frame.DataFrame'>\n",
      "RangeIndex: 200 entries, 0 to 199\n",
      "Columns: 770 entries, Index to dim_768\n",
      "dtypes: float64(768), int64(2)\n",
      "memory usage: 1.2 MB\n",
      "None\n"
     ]
    }
   ],
   "source": [
    "print('Text Summary')\n",
    "print(textSummary.head())\n",
    "print(textSummary.info())\n",
    "print('\\n')\n",
    "print('Training Data')\n",
    "print(trainingData.head())\n",
    "print(trainingData.info())\n"
   ]
  }
 ],
 "metadata": {
  "kernelspec": {
   "display_name": "Python 3",
   "language": "python",
   "name": "python3"
  },
  "language_info": {
   "codemirror_mode": {
    "name": "ipython",
    "version": 3
   },
   "file_extension": ".py",
   "mimetype": "text/x-python",
   "name": "python",
   "nbconvert_exporter": "python",
   "pygments_lexer": "ipython3",
   "version": "3.10.6"
  }
 },
 "nbformat": 4,
 "nbformat_minor": 2
}
