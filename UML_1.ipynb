{
 "cells": [
  {
   "cell_type": "markdown",
   "id": "084b35cc-eab5-4b48-98cc-95778334a76a",
   "metadata": {},
   "source": [
    "## 1.0 Import Packages"
   ]
  },
  {
   "cell_type": "code",
   "execution_count": 1,
   "id": "02320ab2-b065-4687-834e-8e071de34fbf",
   "metadata": {},
   "outputs": [],
   "source": [
    "import numpy as np\n",
    "import pandas as pd\n",
    "import matplotlib.pyplot as plt\n",
    "import matplotlib.cm as cm\n",
    "\n",
    "from sklearn.cluster import KMeans # K-Means Clustering\n",
    "from sklearn.cluster import AgglomerativeClustering # Hierarachical Agglomerative Clustering\n",
    "from sklearn.preprocessing import StandardScaler\n",
    "#from sklearn.preprocessing import MinMaxScaler # use standardizer instead\n",
    "from scipy.optimize import linear_sum_assignment\n",
    "\n",
    "from sklearn.metrics import silhouette_samples, silhouette_score\n",
    "from sklearn.metrics import accuracy_score\n",
    "from sklearn.metrics import davies_bouldin_score\n",
    "from sklearn.metrics import adjusted_rand_score\n",
    "from sklearn.metrics import normalized_mutual_info_score\n",
    "from sklearn.metrics import confusion_matrix\n",
    "\n",
    "from sklearn.decomposition import PCA\n",
    "from sklearn.manifold import TSNE"
   ]
  },
  {
   "cell_type": "markdown",
   "id": "ee34fc1f-13b6-46ed-b99f-6ca557cdfaa7",
   "metadata": {},
   "source": [
    "## 2.0 Import Prepared Dataset"
   ]
  },
  {
   "cell_type": "code",
   "execution_count": 2,
   "id": "bb3d35b7-f914-4d8a-b292-ddd4cf249bdd",
   "metadata": {},
   "outputs": [
    {
     "name": "stdout",
     "output_type": "stream",
     "text": [
      "   Index  Category     dim_1     dim_2     dim_3     dim_4     dim_5  \\\n",
      "0      0         0 -0.882278 -0.647234  0.050173 -0.448188 -0.175582   \n",
      "1      1         0 -0.702665 -0.462591  0.162085 -0.029182 -0.280842   \n",
      "2      2         0 -0.327257 -0.397209  0.035037 -0.064671 -0.435734   \n",
      "3      3         0 -0.793734 -0.470964 -0.278644 -0.292047 -0.565868   \n",
      "4      4         0 -0.272840 -0.556684  0.001737 -0.229906 -0.495732   \n",
      "\n",
      "      dim_6     dim_7     dim_8  ...   dim_759   dim_760   dim_761   dim_762  \\\n",
      "0  0.125284 -0.335781 -0.396106  ...  0.568470 -0.326577  0.026089 -0.407658   \n",
      "1  0.047459  0.109864 -0.540210  ...  0.249440 -0.422917  0.033820 -0.226271   \n",
      "2  0.535525  0.134867 -0.213102  ...  0.710835 -0.191510 -0.068998 -0.262279   \n",
      "3  0.546791  0.604674 -0.069190  ...  0.387789 -0.596448 -0.291108 -0.320205   \n",
      "4  0.176596 -0.141926 -0.352247  ...  0.660122 -0.534026  0.347033 -0.279629   \n",
      "\n",
      "    dim_763   dim_764   dim_765   dim_766   dim_767   dim_768  \n",
      "0 -0.162295 -0.121949 -0.386429  0.135763  0.516049  0.731324  \n",
      "1 -0.324386 -0.036914 -0.588373 -0.344278  0.329853  0.195897  \n",
      "2 -0.214397  0.095195 -0.503536  0.142249  0.206015  0.182094  \n",
      "3 -0.362207  0.179917 -0.600026 -0.200465  0.776508 -0.155819  \n",
      "4 -0.397189  0.226515 -0.547098  0.431136  0.102714  0.422797  \n",
      "\n",
      "[5 rows x 770 columns]\n"
     ]
    }
   ],
   "source": [
    "file_path = \"training_data_v2.xlsx\"\n",
    "df = pd.read_excel(file_path)\n",
    "print(df.head())\n",
    "ground_truth = df[\"Category\"].values"
   ]
  },
  {
   "cell_type": "markdown",
   "id": "344b67a0-46a0-46c9-a1bb-29037bfc5c9f",
   "metadata": {},
   "source": [
    "# Part 1: K-means Clustering"
   ]
  },
  {
   "cell_type": "markdown",
   "id": "0cd37776-71dd-484c-862e-4008f3a729e9",
   "metadata": {},
   "source": [
    "## 3.0 Clustering"
   ]
  },
  {
   "cell_type": "code",
   "execution_count": 14,
   "id": "258b990a-7187-4e67-b324-7812e4af4cc4",
   "metadata": {},
   "outputs": [],
   "source": [
    "# standardize the data\n",
    "X = df.drop(columns=['Index', 'Category'])\n",
    "scaler = StandardScaler()\n",
    "X_scaled = scaler.fit_transform(X)"
   ]
  },
  {
   "cell_type": "code",
   "execution_count": 15,
   "id": "fd553788-f589-4349-a8d4-dc7b41d4ad45",
   "metadata": {},
   "outputs": [
    {
     "name": "stderr",
     "output_type": "stream",
     "text": [
      "D:\\anaconda3\\envs\\huggingman\\Lib\\site-packages\\sklearn\\cluster\\_kmeans.py:1446: UserWarning: KMeans is known to have a memory leak on Windows with MKL, when there are less chunks than available threads. You can avoid it by setting the environment variable OMP_NUM_THREADS=1.\n",
      "  warnings.warn(\n"
     ]
    },
    {
     "data": {
      "text/html": [
       "<style>#sk-container-id-2 {\n",
       "  /* Definition of color scheme common for light and dark mode */\n",
       "  --sklearn-color-text: black;\n",
       "  --sklearn-color-line: gray;\n",
       "  /* Definition of color scheme for unfitted estimators */\n",
       "  --sklearn-color-unfitted-level-0: #fff5e6;\n",
       "  --sklearn-color-unfitted-level-1: #f6e4d2;\n",
       "  --sklearn-color-unfitted-level-2: #ffe0b3;\n",
       "  --sklearn-color-unfitted-level-3: chocolate;\n",
       "  /* Definition of color scheme for fitted estimators */\n",
       "  --sklearn-color-fitted-level-0: #f0f8ff;\n",
       "  --sklearn-color-fitted-level-1: #d4ebff;\n",
       "  --sklearn-color-fitted-level-2: #b3dbfd;\n",
       "  --sklearn-color-fitted-level-3: cornflowerblue;\n",
       "\n",
       "  /* Specific color for light theme */\n",
       "  --sklearn-color-text-on-default-background: var(--sg-text-color, var(--theme-code-foreground, var(--jp-content-font-color1, black)));\n",
       "  --sklearn-color-background: var(--sg-background-color, var(--theme-background, var(--jp-layout-color0, white)));\n",
       "  --sklearn-color-border-box: var(--sg-text-color, var(--theme-code-foreground, var(--jp-content-font-color1, black)));\n",
       "  --sklearn-color-icon: #696969;\n",
       "\n",
       "  @media (prefers-color-scheme: dark) {\n",
       "    /* Redefinition of color scheme for dark theme */\n",
       "    --sklearn-color-text-on-default-background: var(--sg-text-color, var(--theme-code-foreground, var(--jp-content-font-color1, white)));\n",
       "    --sklearn-color-background: var(--sg-background-color, var(--theme-background, var(--jp-layout-color0, #111)));\n",
       "    --sklearn-color-border-box: var(--sg-text-color, var(--theme-code-foreground, var(--jp-content-font-color1, white)));\n",
       "    --sklearn-color-icon: #878787;\n",
       "  }\n",
       "}\n",
       "\n",
       "#sk-container-id-2 {\n",
       "  color: var(--sklearn-color-text);\n",
       "}\n",
       "\n",
       "#sk-container-id-2 pre {\n",
       "  padding: 0;\n",
       "}\n",
       "\n",
       "#sk-container-id-2 input.sk-hidden--visually {\n",
       "  border: 0;\n",
       "  clip: rect(1px 1px 1px 1px);\n",
       "  clip: rect(1px, 1px, 1px, 1px);\n",
       "  height: 1px;\n",
       "  margin: -1px;\n",
       "  overflow: hidden;\n",
       "  padding: 0;\n",
       "  position: absolute;\n",
       "  width: 1px;\n",
       "}\n",
       "\n",
       "#sk-container-id-2 div.sk-dashed-wrapped {\n",
       "  border: 1px dashed var(--sklearn-color-line);\n",
       "  margin: 0 0.4em 0.5em 0.4em;\n",
       "  box-sizing: border-box;\n",
       "  padding-bottom: 0.4em;\n",
       "  background-color: var(--sklearn-color-background);\n",
       "}\n",
       "\n",
       "#sk-container-id-2 div.sk-container {\n",
       "  /* jupyter's `normalize.less` sets `[hidden] { display: none; }`\n",
       "     but bootstrap.min.css set `[hidden] { display: none !important; }`\n",
       "     so we also need the `!important` here to be able to override the\n",
       "     default hidden behavior on the sphinx rendered scikit-learn.org.\n",
       "     See: https://github.com/scikit-learn/scikit-learn/issues/21755 */\n",
       "  display: inline-block !important;\n",
       "  position: relative;\n",
       "}\n",
       "\n",
       "#sk-container-id-2 div.sk-text-repr-fallback {\n",
       "  display: none;\n",
       "}\n",
       "\n",
       "div.sk-parallel-item,\n",
       "div.sk-serial,\n",
       "div.sk-item {\n",
       "  /* draw centered vertical line to link estimators */\n",
       "  background-image: linear-gradient(var(--sklearn-color-text-on-default-background), var(--sklearn-color-text-on-default-background));\n",
       "  background-size: 2px 100%;\n",
       "  background-repeat: no-repeat;\n",
       "  background-position: center center;\n",
       "}\n",
       "\n",
       "/* Parallel-specific style estimator block */\n",
       "\n",
       "#sk-container-id-2 div.sk-parallel-item::after {\n",
       "  content: \"\";\n",
       "  width: 100%;\n",
       "  border-bottom: 2px solid var(--sklearn-color-text-on-default-background);\n",
       "  flex-grow: 1;\n",
       "}\n",
       "\n",
       "#sk-container-id-2 div.sk-parallel {\n",
       "  display: flex;\n",
       "  align-items: stretch;\n",
       "  justify-content: center;\n",
       "  background-color: var(--sklearn-color-background);\n",
       "  position: relative;\n",
       "}\n",
       "\n",
       "#sk-container-id-2 div.sk-parallel-item {\n",
       "  display: flex;\n",
       "  flex-direction: column;\n",
       "}\n",
       "\n",
       "#sk-container-id-2 div.sk-parallel-item:first-child::after {\n",
       "  align-self: flex-end;\n",
       "  width: 50%;\n",
       "}\n",
       "\n",
       "#sk-container-id-2 div.sk-parallel-item:last-child::after {\n",
       "  align-self: flex-start;\n",
       "  width: 50%;\n",
       "}\n",
       "\n",
       "#sk-container-id-2 div.sk-parallel-item:only-child::after {\n",
       "  width: 0;\n",
       "}\n",
       "\n",
       "/* Serial-specific style estimator block */\n",
       "\n",
       "#sk-container-id-2 div.sk-serial {\n",
       "  display: flex;\n",
       "  flex-direction: column;\n",
       "  align-items: center;\n",
       "  background-color: var(--sklearn-color-background);\n",
       "  padding-right: 1em;\n",
       "  padding-left: 1em;\n",
       "}\n",
       "\n",
       "\n",
       "/* Toggleable style: style used for estimator/Pipeline/ColumnTransformer box that is\n",
       "clickable and can be expanded/collapsed.\n",
       "- Pipeline and ColumnTransformer use this feature and define the default style\n",
       "- Estimators will overwrite some part of the style using the `sk-estimator` class\n",
       "*/\n",
       "\n",
       "/* Pipeline and ColumnTransformer style (default) */\n",
       "\n",
       "#sk-container-id-2 div.sk-toggleable {\n",
       "  /* Default theme specific background. It is overwritten whether we have a\n",
       "  specific estimator or a Pipeline/ColumnTransformer */\n",
       "  background-color: var(--sklearn-color-background);\n",
       "}\n",
       "\n",
       "/* Toggleable label */\n",
       "#sk-container-id-2 label.sk-toggleable__label {\n",
       "  cursor: pointer;\n",
       "  display: block;\n",
       "  width: 100%;\n",
       "  margin-bottom: 0;\n",
       "  padding: 0.5em;\n",
       "  box-sizing: border-box;\n",
       "  text-align: center;\n",
       "}\n",
       "\n",
       "#sk-container-id-2 label.sk-toggleable__label-arrow:before {\n",
       "  /* Arrow on the left of the label */\n",
       "  content: \"▸\";\n",
       "  float: left;\n",
       "  margin-right: 0.25em;\n",
       "  color: var(--sklearn-color-icon);\n",
       "}\n",
       "\n",
       "#sk-container-id-2 label.sk-toggleable__label-arrow:hover:before {\n",
       "  color: var(--sklearn-color-text);\n",
       "}\n",
       "\n",
       "/* Toggleable content - dropdown */\n",
       "\n",
       "#sk-container-id-2 div.sk-toggleable__content {\n",
       "  max-height: 0;\n",
       "  max-width: 0;\n",
       "  overflow: hidden;\n",
       "  text-align: left;\n",
       "  /* unfitted */\n",
       "  background-color: var(--sklearn-color-unfitted-level-0);\n",
       "}\n",
       "\n",
       "#sk-container-id-2 div.sk-toggleable__content.fitted {\n",
       "  /* fitted */\n",
       "  background-color: var(--sklearn-color-fitted-level-0);\n",
       "}\n",
       "\n",
       "#sk-container-id-2 div.sk-toggleable__content pre {\n",
       "  margin: 0.2em;\n",
       "  border-radius: 0.25em;\n",
       "  color: var(--sklearn-color-text);\n",
       "  /* unfitted */\n",
       "  background-color: var(--sklearn-color-unfitted-level-0);\n",
       "}\n",
       "\n",
       "#sk-container-id-2 div.sk-toggleable__content.fitted pre {\n",
       "  /* unfitted */\n",
       "  background-color: var(--sklearn-color-fitted-level-0);\n",
       "}\n",
       "\n",
       "#sk-container-id-2 input.sk-toggleable__control:checked~div.sk-toggleable__content {\n",
       "  /* Expand drop-down */\n",
       "  max-height: 200px;\n",
       "  max-width: 100%;\n",
       "  overflow: auto;\n",
       "}\n",
       "\n",
       "#sk-container-id-2 input.sk-toggleable__control:checked~label.sk-toggleable__label-arrow:before {\n",
       "  content: \"▾\";\n",
       "}\n",
       "\n",
       "/* Pipeline/ColumnTransformer-specific style */\n",
       "\n",
       "#sk-container-id-2 div.sk-label input.sk-toggleable__control:checked~label.sk-toggleable__label {\n",
       "  color: var(--sklearn-color-text);\n",
       "  background-color: var(--sklearn-color-unfitted-level-2);\n",
       "}\n",
       "\n",
       "#sk-container-id-2 div.sk-label.fitted input.sk-toggleable__control:checked~label.sk-toggleable__label {\n",
       "  background-color: var(--sklearn-color-fitted-level-2);\n",
       "}\n",
       "\n",
       "/* Estimator-specific style */\n",
       "\n",
       "/* Colorize estimator box */\n",
       "#sk-container-id-2 div.sk-estimator input.sk-toggleable__control:checked~label.sk-toggleable__label {\n",
       "  /* unfitted */\n",
       "  background-color: var(--sklearn-color-unfitted-level-2);\n",
       "}\n",
       "\n",
       "#sk-container-id-2 div.sk-estimator.fitted input.sk-toggleable__control:checked~label.sk-toggleable__label {\n",
       "  /* fitted */\n",
       "  background-color: var(--sklearn-color-fitted-level-2);\n",
       "}\n",
       "\n",
       "#sk-container-id-2 div.sk-label label.sk-toggleable__label,\n",
       "#sk-container-id-2 div.sk-label label {\n",
       "  /* The background is the default theme color */\n",
       "  color: var(--sklearn-color-text-on-default-background);\n",
       "}\n",
       "\n",
       "/* On hover, darken the color of the background */\n",
       "#sk-container-id-2 div.sk-label:hover label.sk-toggleable__label {\n",
       "  color: var(--sklearn-color-text);\n",
       "  background-color: var(--sklearn-color-unfitted-level-2);\n",
       "}\n",
       "\n",
       "/* Label box, darken color on hover, fitted */\n",
       "#sk-container-id-2 div.sk-label.fitted:hover label.sk-toggleable__label.fitted {\n",
       "  color: var(--sklearn-color-text);\n",
       "  background-color: var(--sklearn-color-fitted-level-2);\n",
       "}\n",
       "\n",
       "/* Estimator label */\n",
       "\n",
       "#sk-container-id-2 div.sk-label label {\n",
       "  font-family: monospace;\n",
       "  font-weight: bold;\n",
       "  display: inline-block;\n",
       "  line-height: 1.2em;\n",
       "}\n",
       "\n",
       "#sk-container-id-2 div.sk-label-container {\n",
       "  text-align: center;\n",
       "}\n",
       "\n",
       "/* Estimator-specific */\n",
       "#sk-container-id-2 div.sk-estimator {\n",
       "  font-family: monospace;\n",
       "  border: 1px dotted var(--sklearn-color-border-box);\n",
       "  border-radius: 0.25em;\n",
       "  box-sizing: border-box;\n",
       "  margin-bottom: 0.5em;\n",
       "  /* unfitted */\n",
       "  background-color: var(--sklearn-color-unfitted-level-0);\n",
       "}\n",
       "\n",
       "#sk-container-id-2 div.sk-estimator.fitted {\n",
       "  /* fitted */\n",
       "  background-color: var(--sklearn-color-fitted-level-0);\n",
       "}\n",
       "\n",
       "/* on hover */\n",
       "#sk-container-id-2 div.sk-estimator:hover {\n",
       "  /* unfitted */\n",
       "  background-color: var(--sklearn-color-unfitted-level-2);\n",
       "}\n",
       "\n",
       "#sk-container-id-2 div.sk-estimator.fitted:hover {\n",
       "  /* fitted */\n",
       "  background-color: var(--sklearn-color-fitted-level-2);\n",
       "}\n",
       "\n",
       "/* Specification for estimator info (e.g. \"i\" and \"?\") */\n",
       "\n",
       "/* Common style for \"i\" and \"?\" */\n",
       "\n",
       ".sk-estimator-doc-link,\n",
       "a:link.sk-estimator-doc-link,\n",
       "a:visited.sk-estimator-doc-link {\n",
       "  float: right;\n",
       "  font-size: smaller;\n",
       "  line-height: 1em;\n",
       "  font-family: monospace;\n",
       "  background-color: var(--sklearn-color-background);\n",
       "  border-radius: 1em;\n",
       "  height: 1em;\n",
       "  width: 1em;\n",
       "  text-decoration: none !important;\n",
       "  margin-left: 1ex;\n",
       "  /* unfitted */\n",
       "  border: var(--sklearn-color-unfitted-level-1) 1pt solid;\n",
       "  color: var(--sklearn-color-unfitted-level-1);\n",
       "}\n",
       "\n",
       ".sk-estimator-doc-link.fitted,\n",
       "a:link.sk-estimator-doc-link.fitted,\n",
       "a:visited.sk-estimator-doc-link.fitted {\n",
       "  /* fitted */\n",
       "  border: var(--sklearn-color-fitted-level-1) 1pt solid;\n",
       "  color: var(--sklearn-color-fitted-level-1);\n",
       "}\n",
       "\n",
       "/* On hover */\n",
       "div.sk-estimator:hover .sk-estimator-doc-link:hover,\n",
       ".sk-estimator-doc-link:hover,\n",
       "div.sk-label-container:hover .sk-estimator-doc-link:hover,\n",
       ".sk-estimator-doc-link:hover {\n",
       "  /* unfitted */\n",
       "  background-color: var(--sklearn-color-unfitted-level-3);\n",
       "  color: var(--sklearn-color-background);\n",
       "  text-decoration: none;\n",
       "}\n",
       "\n",
       "div.sk-estimator.fitted:hover .sk-estimator-doc-link.fitted:hover,\n",
       ".sk-estimator-doc-link.fitted:hover,\n",
       "div.sk-label-container:hover .sk-estimator-doc-link.fitted:hover,\n",
       ".sk-estimator-doc-link.fitted:hover {\n",
       "  /* fitted */\n",
       "  background-color: var(--sklearn-color-fitted-level-3);\n",
       "  color: var(--sklearn-color-background);\n",
       "  text-decoration: none;\n",
       "}\n",
       "\n",
       "/* Span, style for the box shown on hovering the info icon */\n",
       ".sk-estimator-doc-link span {\n",
       "  display: none;\n",
       "  z-index: 9999;\n",
       "  position: relative;\n",
       "  font-weight: normal;\n",
       "  right: .2ex;\n",
       "  padding: .5ex;\n",
       "  margin: .5ex;\n",
       "  width: min-content;\n",
       "  min-width: 20ex;\n",
       "  max-width: 50ex;\n",
       "  color: var(--sklearn-color-text);\n",
       "  box-shadow: 2pt 2pt 4pt #999;\n",
       "  /* unfitted */\n",
       "  background: var(--sklearn-color-unfitted-level-0);\n",
       "  border: .5pt solid var(--sklearn-color-unfitted-level-3);\n",
       "}\n",
       "\n",
       ".sk-estimator-doc-link.fitted span {\n",
       "  /* fitted */\n",
       "  background: var(--sklearn-color-fitted-level-0);\n",
       "  border: var(--sklearn-color-fitted-level-3);\n",
       "}\n",
       "\n",
       ".sk-estimator-doc-link:hover span {\n",
       "  display: block;\n",
       "}\n",
       "\n",
       "/* \"?\"-specific style due to the `<a>` HTML tag */\n",
       "\n",
       "#sk-container-id-2 a.estimator_doc_link {\n",
       "  float: right;\n",
       "  font-size: 1rem;\n",
       "  line-height: 1em;\n",
       "  font-family: monospace;\n",
       "  background-color: var(--sklearn-color-background);\n",
       "  border-radius: 1rem;\n",
       "  height: 1rem;\n",
       "  width: 1rem;\n",
       "  text-decoration: none;\n",
       "  /* unfitted */\n",
       "  color: var(--sklearn-color-unfitted-level-1);\n",
       "  border: var(--sklearn-color-unfitted-level-1) 1pt solid;\n",
       "}\n",
       "\n",
       "#sk-container-id-2 a.estimator_doc_link.fitted {\n",
       "  /* fitted */\n",
       "  border: var(--sklearn-color-fitted-level-1) 1pt solid;\n",
       "  color: var(--sklearn-color-fitted-level-1);\n",
       "}\n",
       "\n",
       "/* On hover */\n",
       "#sk-container-id-2 a.estimator_doc_link:hover {\n",
       "  /* unfitted */\n",
       "  background-color: var(--sklearn-color-unfitted-level-3);\n",
       "  color: var(--sklearn-color-background);\n",
       "  text-decoration: none;\n",
       "}\n",
       "\n",
       "#sk-container-id-2 a.estimator_doc_link.fitted:hover {\n",
       "  /* fitted */\n",
       "  background-color: var(--sklearn-color-fitted-level-3);\n",
       "}\n",
       "</style><div id=\"sk-container-id-2\" class=\"sk-top-container\"><div class=\"sk-text-repr-fallback\"><pre>KMeans(n_clusters=4, random_state=0)</pre><b>In a Jupyter environment, please rerun this cell to show the HTML representation or trust the notebook. <br />On GitHub, the HTML representation is unable to render, please try loading this page with nbviewer.org.</b></div><div class=\"sk-container\" hidden><div class=\"sk-item\"><div class=\"sk-estimator fitted sk-toggleable\"><input class=\"sk-toggleable__control sk-hidden--visually\" id=\"sk-estimator-id-2\" type=\"checkbox\" checked><label for=\"sk-estimator-id-2\" class=\"sk-toggleable__label fitted sk-toggleable__label-arrow fitted\">&nbsp;&nbsp;KMeans<a class=\"sk-estimator-doc-link fitted\" rel=\"noreferrer\" target=\"_blank\" href=\"https://scikit-learn.org/1.4/modules/generated/sklearn.cluster.KMeans.html\">?<span>Documentation for KMeans</span></a><span class=\"sk-estimator-doc-link fitted\">i<span>Fitted</span></span></label><div class=\"sk-toggleable__content fitted\"><pre>KMeans(n_clusters=4, random_state=0)</pre></div> </div></div></div></div>"
      ],
      "text/plain": [
       "KMeans(n_clusters=4, random_state=0)"
      ]
     },
     "execution_count": 15,
     "metadata": {},
     "output_type": "execute_result"
    }
   ],
   "source": [
    "k = 4 # known cluster count\n",
    "kmeans = KMeans(n_clusters=k, random_state=0) # initialize K_means_cluster with k and random_state\n",
    "kmeans.fit(X_scaled) # perform clustering"
   ]
  },
  {
   "cell_type": "markdown",
   "id": "cc890ded-4ebf-4d76-bc25-f0999ae742ed",
   "metadata": {},
   "source": [
    "## 4.0 Result Evaluation"
   ]
  },
  {
   "cell_type": "markdown",
   "id": "febb2866-7bde-4082-911a-aca985e23db0",
   "metadata": {},
   "source": [
    "### 4.1 Evaluation by sight"
   ]
  },
  {
   "cell_type": "code",
   "execution_count": 16,
   "id": "99a8c6b1-d7de-42ac-9de1-e25e63f78fab",
   "metadata": {},
   "outputs": [],
   "source": [
    "cluster_labels = kmeans.labels_"
   ]
  },
  {
   "cell_type": "code",
   "execution_count": 17,
   "id": "f7257bcc-2ea5-4d32-b9c6-dbaa95a78d25",
   "metadata": {},
   "outputs": [
    {
     "data": {
      "text/plain": [
       "array([2, 2, 2, 2, 2, 2, 2, 2, 2, 2, 2, 2, 2, 2, 2, 2, 2, 2, 2, 2, 2, 2,\n",
       "       2, 2, 2, 2, 3, 2, 2, 2, 2, 2, 2, 2, 2, 2, 2, 1, 2, 2, 2, 2, 2, 2,\n",
       "       2, 2, 2, 2, 2, 2, 3, 3, 3, 3, 3, 3, 3, 3, 3, 3, 3, 3, 3, 3, 3, 3,\n",
       "       3, 3, 3, 3, 2, 3, 3, 3, 3, 3, 3, 3, 3, 3, 3, 3, 3, 3, 3, 3, 3, 3,\n",
       "       2, 3, 3, 3, 3, 3, 3, 3, 1, 1, 1, 1, 1, 1, 0, 0, 1, 1, 1, 0, 0, 0,\n",
       "       0, 0, 1, 1, 1, 1, 3, 3, 0, 1, 1, 1, 3, 1, 1, 0, 0, 0, 0, 0, 0, 1,\n",
       "       1, 1, 1, 0, 0, 3, 0, 0, 0, 0, 0, 0, 1, 1, 1, 3, 1, 0, 0, 0, 0, 0,\n",
       "       3, 3, 3, 1, 0, 0, 1, 3, 3, 1, 0, 0, 0, 0, 0, 3, 3, 3, 3, 3, 3, 3,\n",
       "       1, 0, 1, 1, 0, 0, 0, 3, 0, 0, 0, 0, 0, 0, 0, 0, 0, 0, 0, 0, 1, 1,\n",
       "       1, 0])"
      ]
     },
     "execution_count": 17,
     "metadata": {},
     "output_type": "execute_result"
    }
   ],
   "source": [
    "cluster_labels # display clsutered label"
   ]
  },
  {
   "cell_type": "code",
   "execution_count": 18,
   "id": "2deea53e-00e5-44e2-9de6-65db6e3173f8",
   "metadata": {},
   "outputs": [
    {
     "data": {
      "text/plain": [
       "array([0, 0, 0, 0, 0, 0, 0, 0, 0, 0, 0, 0, 0, 0, 0, 0, 0, 0, 0, 0, 0, 0,\n",
       "       0, 0, 0, 0, 0, 0, 0, 0, 0, 0, 0, 0, 0, 0, 0, 0, 0, 0, 0, 0, 0, 0,\n",
       "       0, 0, 0, 0, 0, 0, 1, 1, 1, 1, 1, 1, 1, 1, 1, 1, 1, 1, 1, 1, 1, 1,\n",
       "       1, 1, 1, 1, 1, 1, 1, 1, 1, 1, 1, 1, 1, 1, 1, 1, 1, 1, 1, 1, 1, 1,\n",
       "       1, 1, 1, 1, 1, 1, 1, 1, 1, 1, 1, 1, 2, 2, 2, 2, 2, 2, 2, 2, 2, 2,\n",
       "       2, 2, 2, 2, 2, 2, 2, 2, 2, 2, 2, 2, 2, 2, 2, 2, 2, 2, 2, 2, 2, 2,\n",
       "       2, 2, 2, 2, 2, 2, 2, 2, 2, 2, 2, 2, 2, 2, 2, 2, 2, 2, 3, 3, 3, 3,\n",
       "       3, 3, 3, 3, 3, 3, 3, 3, 3, 3, 3, 3, 3, 3, 3, 3, 3, 3, 3, 3, 3, 3,\n",
       "       3, 3, 3, 3, 3, 3, 3, 3, 3, 3, 3, 3, 3, 3, 3, 3, 3, 3, 3, 3, 3, 3,\n",
       "       3, 3], dtype=int64)"
      ]
     },
     "execution_count": 18,
     "metadata": {},
     "output_type": "execute_result"
    }
   ],
   "source": [
    "ground_truth # display ground truth"
   ]
  },
  {
   "cell_type": "code",
   "execution_count": 19,
   "id": "d9617d6c-483c-4c28-9161-7bf97ecd291c",
   "metadata": {},
   "outputs": [],
   "source": [
    "def category_modification_by_sight(cluster_labels, sight_separation): # weak customized function for visualization\n",
    "    new_cluster_labels = cluster_labels\n",
    "    for i in range(len(new_cluster_labels)):\n",
    "        new_cluster_labels[i] = sight_separation[new_cluster_labels[i]]\n",
    "    return new_cluster_labels"
   ]
  },
  {
   "cell_type": "code",
   "execution_count": 20,
   "id": "2dd2dbfd-98b8-4d21-9583-0f3ebc35e6a5",
   "metadata": {},
   "outputs": [],
   "source": [
    "def custom_accuracy_scores(new_cluster_labels, ground_truth): # customized accuracy calculation\n",
    "    sum = 0\n",
    "    for it in range(200):\n",
    "        if (new_cluster_labels[it] == ground_truth[it]):\n",
    "            sum+=1\n",
    "    accuracy = sum / 200\n",
    "    return accuracy"
   ]
  },
  {
   "cell_type": "code",
   "execution_count": 21,
   "id": "e6c1f630-79f2-442e-a594-2825178dadf0",
   "metadata": {},
   "outputs": [
    {
     "data": {
      "text/plain": [
       "array([0, 0, 0, 0, 0, 0, 0, 0, 0, 0, 0, 0, 0, 0, 0, 0, 0, 0, 0, 0, 0, 0,\n",
       "       0, 0, 0, 0, 1, 0, 0, 0, 0, 0, 0, 0, 0, 0, 0, 2, 0, 0, 0, 0, 0, 0,\n",
       "       0, 0, 0, 0, 0, 0, 1, 1, 1, 1, 1, 1, 1, 1, 1, 1, 1, 1, 1, 1, 1, 1,\n",
       "       1, 1, 1, 1, 0, 1, 1, 1, 1, 1, 1, 1, 1, 1, 1, 1, 1, 1, 1, 1, 1, 1,\n",
       "       0, 1, 1, 1, 1, 1, 1, 1, 2, 2, 2, 2, 2, 2, 3, 3, 2, 2, 2, 3, 3, 3,\n",
       "       3, 3, 2, 2, 2, 2, 1, 1, 3, 2, 2, 2, 1, 2, 2, 3, 3, 3, 3, 3, 3, 2,\n",
       "       2, 2, 2, 3, 3, 1, 3, 3, 3, 3, 3, 3, 2, 2, 2, 1, 2, 3, 3, 3, 3, 3,\n",
       "       1, 1, 1, 2, 3, 3, 2, 1, 1, 2, 3, 3, 3, 3, 3, 1, 1, 1, 1, 1, 1, 1,\n",
       "       2, 3, 2, 2, 3, 3, 3, 1, 3, 3, 3, 3, 3, 3, 3, 3, 3, 3, 3, 3, 2, 2,\n",
       "       2, 3])"
      ]
     },
     "execution_count": 21,
     "metadata": {},
     "output_type": "execute_result"
    }
   ],
   "source": [
    "new_cluster_labels = category_modification_by_sight(cluster_labels, [3, 2, 0, 1])\n",
    "new_cluster_labels"
   ]
  },
  {
   "cell_type": "code",
   "execution_count": 22,
   "id": "b96d1f35-d325-497d-9bc0-1099b69eca89",
   "metadata": {},
   "outputs": [
    {
     "data": {
      "text/plain": [
       "array([0, 0, 0, 0, 0, 0, 0, 0, 0, 0, 0, 0, 0, 0, 0, 0, 0, 0, 0, 0, 0, 0,\n",
       "       0, 0, 0, 0, 0, 0, 0, 0, 0, 0, 0, 0, 0, 0, 0, 0, 0, 0, 0, 0, 0, 0,\n",
       "       0, 0, 0, 0, 0, 0, 1, 1, 1, 1, 1, 1, 1, 1, 1, 1, 1, 1, 1, 1, 1, 1,\n",
       "       1, 1, 1, 1, 1, 1, 1, 1, 1, 1, 1, 1, 1, 1, 1, 1, 1, 1, 1, 1, 1, 1,\n",
       "       1, 1, 1, 1, 1, 1, 1, 1, 1, 1, 1, 1, 2, 2, 2, 2, 2, 2, 2, 2, 2, 2,\n",
       "       2, 2, 2, 2, 2, 2, 2, 2, 2, 2, 2, 2, 2, 2, 2, 2, 2, 2, 2, 2, 2, 2,\n",
       "       2, 2, 2, 2, 2, 2, 2, 2, 2, 2, 2, 2, 2, 2, 2, 2, 2, 2, 3, 3, 3, 3,\n",
       "       3, 3, 3, 3, 3, 3, 3, 3, 3, 3, 3, 3, 3, 3, 3, 3, 3, 3, 3, 3, 3, 3,\n",
       "       3, 3, 3, 3, 3, 3, 3, 3, 3, 3, 3, 3, 3, 3, 3, 3, 3, 3, 3, 3, 3, 3,\n",
       "       3, 3], dtype=int64)"
      ]
     },
     "execution_count": 22,
     "metadata": {},
     "output_type": "execute_result"
    }
   ],
   "source": [
    "ground_truth"
   ]
  },
  {
   "cell_type": "code",
   "execution_count": 23,
   "id": "1c540a15-1d10-42dc-bd51-e243fe14fbca",
   "metadata": {},
   "outputs": [
    {
     "name": "stdout",
     "output_type": "stream",
     "text": [
      "0.71\n"
     ]
    }
   ],
   "source": [
    "accuracy = custom_accuracy_scores(new_cluster_labels, ground_truth)\n",
    "print(accuracy)"
   ]
  },
  {
   "cell_type": "code",
   "execution_count": 24,
   "id": "d0be0235-e25b-4ec5-8017-ccd564fc2c43",
   "metadata": {},
   "outputs": [
    {
     "name": "stdout",
     "output_type": "stream",
     "text": [
      "(4, 768)\n"
     ]
    }
   ],
   "source": [
    "cluster_centers = kmeans.cluster_centers_ # get cluster centroids\n",
    "print(cluster_centers.shape) # (k, data_points)"
   ]
  },
  {
   "cell_type": "markdown",
   "id": "fcedadeb-a689-4328-bb3d-0c7714b06d21",
   "metadata": {},
   "source": [
    "### 4.2 Evaluation by scipy module"
   ]
  },
  {
   "cell_type": "code",
   "execution_count": 31,
   "id": "634c6936-42ea-4f16-8523-e3a0703731ee",
   "metadata": {},
   "outputs": [],
   "source": [
    "contingency_matrix = pd.crosstab(df['Category'], cluster_labels) # Hungarian method to find one-to-one mapping based on contingency_matrix\n",
    "row_idx, col_idx = linear_sum_assignment(-contingency_matrix.values)\n",
    "\n",
    "mapped_labels = np.zeros_like(cluster_labels)\n",
    "for i, col in enumerate(col_idx):\n",
    "    mapped_labels[cluster_labels == col] = row_idx[i]"
   ]
  },
  {
   "cell_type": "code",
   "execution_count": 32,
   "id": "a3960de1-575c-42b7-80d8-272ae7c01af0",
   "metadata": {},
   "outputs": [
    {
     "name": "stdout",
     "output_type": "stream",
     "text": [
      "Accuracy: 0.71\n"
     ]
    }
   ],
   "source": [
    "accuracy = accuracy_score(df['Category'], mapped_labels)\n",
    "print(\"Accuracy:\", accuracy) # final accuracy equivalaent to \"category_modification_by_sight\""
   ]
  },
  {
   "cell_type": "markdown",
   "id": "1ff757e0-9a79-450b-9adc-bb3e029d240e",
   "metadata": {},
   "source": [
    "### 4.3 K-means Clustering Specific Inertia"
   ]
  },
  {
   "cell_type": "code",
   "execution_count": 33,
   "id": "3d523b75-ae68-48f8-9243-f36c006417ec",
   "metadata": {},
   "outputs": [
    {
     "name": "stdout",
     "output_type": "stream",
     "text": [
      "Inertia: 119651.85013557624\n"
     ]
    }
   ],
   "source": [
    "print(\"Inertia:\", kmeans.inertia_) # inertia is too high, indicates not well-defined clusters"
   ]
  },
  {
   "cell_type": "markdown",
   "id": "2768760f-d994-4435-8998-b15ac9c4232c",
   "metadata": {},
   "source": [
    "### 4.4 Silhouette Score"
   ]
  },
  {
   "cell_type": "code",
   "execution_count": 34,
   "id": "6b0df910-4055-4576-b625-e4925f7de8d1",
   "metadata": {},
   "outputs": [
    {
     "name": "stdout",
     "output_type": "stream",
     "text": [
      "Silhouette Score: 0.2900141806774307\n"
     ]
    }
   ],
   "source": [
    "ground_truth_2d = ground_truth.reshape(-1, 1)  # Reshape ground_truth to have one feature per sample\n",
    "silhouette_score_value = silhouette_score(ground_truth_2d, cluster_labels)\n",
    "print(\"Silhouette Score:\", silhouette_score_value)"
   ]
  },
  {
   "cell_type": "markdown",
   "id": "88898bb4-bdb0-48a3-8049-115e661b8efe",
   "metadata": {},
   "source": [
    "### 4.5 Davies Bouldin Score"
   ]
  },
  {
   "cell_type": "code",
   "execution_count": 35,
   "id": "1a6a2443-f089-419a-9ed6-68476688a098",
   "metadata": {},
   "outputs": [
    {
     "name": "stdout",
     "output_type": "stream",
     "text": [
      "Davies-Bouldin Index: 2.612860406970152\n"
     ]
    }
   ],
   "source": [
    "davies_bouldin_score_value = davies_bouldin_score(X, cluster_labels)\n",
    "print(\"Davies-Bouldin Index:\", davies_bouldin_score_value)"
   ]
  },
  {
   "cell_type": "markdown",
   "id": "777361d7-2ff7-43e7-8870-dff17840c992",
   "metadata": {},
   "source": [
    "### 4.6 Adjusted Rand Index (ARI)"
   ]
  },
  {
   "cell_type": "code",
   "execution_count": 36,
   "id": "0cca94ca-337b-4523-82bd-007172034c53",
   "metadata": {},
   "outputs": [
    {
     "name": "stdout",
     "output_type": "stream",
     "text": [
      "ARI: 0.48541501649666136\n"
     ]
    }
   ],
   "source": [
    "ari = adjusted_rand_score(ground_truth, cluster_labels)\n",
    "print(\"ARI:\", ari)"
   ]
  },
  {
   "cell_type": "markdown",
   "id": "82a7460a-af03-46db-9140-600418f9560e",
   "metadata": {},
   "source": [
    "### 4.7 Normalized Mutual Information (NMI)"
   ]
  },
  {
   "cell_type": "code",
   "execution_count": 37,
   "id": "274abf98-1ad9-4bff-a90d-70104e6406d1",
   "metadata": {},
   "outputs": [
    {
     "name": "stdout",
     "output_type": "stream",
     "text": [
      "Normalized Mutual Information (NMI): 0.5263556756551566\n"
     ]
    }
   ],
   "source": [
    "nmi = normalized_mutual_info_score(ground_truth, cluster_labels)\n",
    "print(f\"Normalized Mutual Information (NMI): {nmi}\")"
   ]
  },
  {
   "cell_type": "markdown",
   "id": "9762d8fb-e18b-40c1-ad78-41a39b7dd625",
   "metadata": {},
   "source": [
    "### 4.8 Cluster Purity"
   ]
  },
  {
   "cell_type": "code",
   "execution_count": 38,
   "id": "759017cf-7fef-4264-8632-2ec8543c351e",
   "metadata": {},
   "outputs": [],
   "source": [
    "def cluster_purity(ground_truth, predicted_labels):\n",
    "    cm = confusion_matrix(ground_truth, predicted_labels)\n",
    "    purity = np.sum(np.max(cm, axis=0)) / np.sum(cm)\n",
    "    return purity"
   ]
  },
  {
   "cell_type": "code",
   "execution_count": 39,
   "id": "fc5f809e-a4a7-4e57-bfa2-06891cefb3a0",
   "metadata": {},
   "outputs": [
    {
     "name": "stdout",
     "output_type": "stream",
     "text": [
      "Cluster Purity: 0.71\n"
     ]
    }
   ],
   "source": [
    "purity = cluster_purity(ground_truth, cluster_labels)\n",
    "print(f\"Cluster Purity: {purity:.2f}\")"
   ]
  },
  {
   "cell_type": "markdown",
   "id": "eb784b08-2eef-4624-914d-1033dc51c05b",
   "metadata": {},
   "source": [
    "### 5.0 Silhouette Plot"
   ]
  },
  {
   "cell_type": "code",
   "execution_count": 40,
   "id": "55b4cad0-546c-49cc-b9ca-cc493cbe2c9b",
   "metadata": {},
   "outputs": [
    {
     "data": {
      "image/png": "[encoded data removed]",
      "text/plain": [
       "<Figure size 800x600 with 1 Axes>"
      ]
     },
     "metadata": {},
     "output_type": "display_data"
    }
   ],
   "source": [
    "silhouette_vals = silhouette_samples(X, cluster_labels)\n",
    "silhouette_avg = silhouette_score(X, cluster_labels)\n",
    "\n",
    "fig, ax = plt.subplots(figsize=(8, 6))\n",
    "y_ticks = []\n",
    "y_lower = 10\n",
    "for i in range(k):\n",
    "    cluster_silhouette_vals = silhouette_vals[cluster_labels == i]\n",
    "    cluster_silhouette_vals.sort()\n",
    "    y_upper = y_lower + len(cluster_silhouette_vals)\n",
    "    color = cm.nipy_spectral(float(i) / k)\n",
    "    ax.fill_betweenx(np.arange(y_lower, y_upper),\n",
    "                      0, cluster_silhouette_vals,\n",
    "                      facecolor=color, edgecolor=color, alpha=0.7)\n",
    "    ax.text(-0.05, y_lower + 0.5 * len(cluster_silhouette_vals), str(i))\n",
    "    y_lower = y_upper + 10\n",
    "\n",
    "ax.set_title('Silhouette Plot for K-means Clustering')\n",
    "ax.set_xlabel('Silhouette coefficient')\n",
    "ax.set_ylabel('Cluster label')\n",
    "ax.axvline(x=silhouette_avg, color=\"red\", linestyle=\"--\")\n",
    "ax.set_yticks([])\n",
    "ax.set_xlim([-0.1, 1])\n",
    "plt.show()"
   ]
  },
  {
   "cell_type": "markdown",
   "id": "6a9eca64-c1c8-41a0-8a1d-ebaab72bf842",
   "metadata": {},
   "source": [
    "### 6.0 Principal Component Analysis (PCA)"
   ]
  },
  {
   "cell_type": "code",
   "execution_count": 65,
   "id": "46d790c2-6480-429e-b779-06ddd576fc13",
   "metadata": {},
   "outputs": [
    {
     "name": "stderr",
     "output_type": "stream",
     "text": [
      "D:\\anaconda3\\envs\\huggingman\\Lib\\site-packages\\sklearn\\cluster\\_kmeans.py:1446: UserWarning: KMeans is known to have a memory leak on Windows with MKL, when there are less chunks than available threads. You can avoid it by setting the environment variable OMP_NUM_THREADS=1.\n",
      "  warnings.warn(\n"
     ]
    },
    {
     "name": "stdout",
     "output_type": "stream",
     "text": [
      "Accuracy: 0.73\n",
      "Inertia: 3696.3744049433944\n",
      "Silhouette Score: 0.32779087393429057\n",
      "Davies-Bouldin Index: 2.73175296768834\n",
      "ARI: 0.5069346842796405\n",
      "Normalized Mutual Information (NMI): 0.548161712517762\n",
      "Cluster Purity: 0.73\n"
     ]
    }
   ],
   "source": [
    "X = df.drop(columns=['Index', 'Category'])\n",
    "pca = PCA(n_components=10)  # Reduce to 2 principal components\n",
    "data_pca = pca.fit_transform(X) # PCA\n",
    "\n",
    "k = 4 # known cluster count\n",
    "kmeans = KMeans(n_clusters=k, random_state=0) # initialize K_means_cluster with k and random_state\n",
    "kmeans.fit(data_pca) # perform clustering\n",
    "\n",
    "cluster_labels = kmeans.labels_\n",
    "\n",
    "contingency_matrix = pd.crosstab(df['Category'], cluster_labels)\n",
    "row_idx, col_idx = linear_sum_assignment(-contingency_matrix.values)\n",
    "\n",
    "mapped_labels = np.zeros_like(cluster_labels)\n",
    "for i, col in enumerate(col_idx):\n",
    "    mapped_labels[cluster_labels == col] = row_idx[i]\n",
    "    \n",
    "accuracy = accuracy_score(df['Category'], mapped_labels)\n",
    "print(\"Accuracy:\", accuracy) # final accuracy equivalaent to \"category_modification_by_sight\"\n",
    "\n",
    "print(\"Inertia:\", kmeans.inertia_) # inertia is too high, indicates not well-defined clusters\n",
    "\n",
    "ground_truth_2d = ground_truth.reshape(-1, 1)  # Reshape ground_truth to have one feature per sample\n",
    "silhouette_score_value = silhouette_score(ground_truth_2d, cluster_labels)\n",
    "print(\"Silhouette Score:\", silhouette_score_value)\n",
    "\n",
    "davies_bouldin_score_value = davies_bouldin_score(X, cluster_labels)\n",
    "print(\"Davies-Bouldin Index:\", davies_bouldin_score_value)\n",
    "\n",
    "ari = adjusted_rand_score(ground_truth, cluster_labels)\n",
    "print(\"ARI:\", ari)\n",
    "\n",
    "nmi = normalized_mutual_info_score(ground_truth, cluster_labels)\n",
    "print(f\"Normalized Mutual Information (NMI): {nmi}\")\n",
    "\n",
    "purity = cluster_purity(ground_truth, cluster_labels)\n",
    "print(f\"Cluster Purity: {purity:.2f}\")"
   ]
  },
  {
   "cell_type": "code",
   "execution_count": 66,
   "id": "eafe6286-5edd-42a9-974e-bf41d40f9992",
   "metadata": {},
   "outputs": [
    {
     "data": {
      "image/png": "[encoded data removed]",
      "text/plain": [
       "<Figure size 800x600 with 1 Axes>"
      ]
     },
     "metadata": {},
     "output_type": "display_data"
    }
   ],
   "source": [
    "silhouette_vals = silhouette_samples(X, cluster_labels)\n",
    "silhouette_avg = silhouette_score(X, cluster_labels)\n",
    "\n",
    "fig, ax = plt.subplots(figsize=(8, 6))\n",
    "y_ticks = []\n",
    "y_lower = 10\n",
    "for i in range(k):\n",
    "    cluster_silhouette_vals = silhouette_vals[cluster_labels == i]\n",
    "    cluster_silhouette_vals.sort()\n",
    "    y_upper = y_lower + len(cluster_silhouette_vals)\n",
    "    color = cm.nipy_spectral(float(i) / k)\n",
    "    ax.fill_betweenx(np.arange(y_lower, y_upper),\n",
    "                      0, cluster_silhouette_vals,\n",
    "                      facecolor=color, edgecolor=color, alpha=0.7)\n",
    "    ax.text(-0.05, y_lower + 0.5 * len(cluster_silhouette_vals), str(i))\n",
    "    y_lower = y_upper + 10\n",
    "\n",
    "ax.set_title('Silhouette Plot for K-means Clustering')\n",
    "ax.set_xlabel('Silhouette coefficient')\n",
    "ax.set_ylabel('Cluster label')\n",
    "ax.axvline(x=silhouette_avg, color=\"red\", linestyle=\"--\")\n",
    "ax.set_yticks([])\n",
    "ax.set_xlim([-0.1, 1])\n",
    "plt.show()"
   ]
  },
  {
   "cell_type": "code",
   "execution_count": null,
   "id": "7a4d9a56-22d5-4dce-8189-03868c34f6d7",
   "metadata": {},
   "outputs": [],
   "source": []
  },
  {
   "cell_type": "code",
   "execution_count": null,
   "id": "91fee14f-ddbb-43a1-9e33-4c1bc09dab40",
   "metadata": {},
   "outputs": [],
   "source": []
  },
  {
   "cell_type": "markdown",
   "id": "74c4a5c0-80d0-4b7c-b5b8-e2bbe9d93855",
   "metadata": {},
   "source": [
    "## Part 2: Hierarchical Agglomerative Clustering"
   ]
  },
  {
   "cell_type": "markdown",
   "id": "42d85479-025a-4368-9e79-7cc2a742ad3b",
   "metadata": {},
   "source": [
    "### 3.0 Clustering"
   ]
  },
  {
   "cell_type": "code",
   "execution_count": 44,
   "id": "20c86027-451e-428c-a7a9-05e2a1080863",
   "metadata": {},
   "outputs": [
    {
     "data": {
      "text/html": [
       "<style>#sk-container-id-3 {\n",
       "  /* Definition of color scheme common for light and dark mode */\n",
       "  --sklearn-color-text: black;\n",
       "  --sklearn-color-line: gray;\n",
       "  /* Definition of color scheme for unfitted estimators */\n",
       "  --sklearn-color-unfitted-level-0: #fff5e6;\n",
       "  --sklearn-color-unfitted-level-1: #f6e4d2;\n",
       "  --sklearn-color-unfitted-level-2: #ffe0b3;\n",
       "  --sklearn-color-unfitted-level-3: chocolate;\n",
       "  /* Definition of color scheme for fitted estimators */\n",
       "  --sklearn-color-fitted-level-0: #f0f8ff;\n",
       "  --sklearn-color-fitted-level-1: #d4ebff;\n",
       "  --sklearn-color-fitted-level-2: #b3dbfd;\n",
       "  --sklearn-color-fitted-level-3: cornflowerblue;\n",
       "\n",
       "  /* Specific color for light theme */\n",
       "  --sklearn-color-text-on-default-background: var(--sg-text-color, var(--theme-code-foreground, var(--jp-content-font-color1, black)));\n",
       "  --sklearn-color-background: var(--sg-background-color, var(--theme-background, var(--jp-layout-color0, white)));\n",
       "  --sklearn-color-border-box: var(--sg-text-color, var(--theme-code-foreground, var(--jp-content-font-color1, black)));\n",
       "  --sklearn-color-icon: #696969;\n",
       "\n",
       "  @media (prefers-color-scheme: dark) {\n",
       "    /* Redefinition of color scheme for dark theme */\n",
       "    --sklearn-color-text-on-default-background: var(--sg-text-color, var(--theme-code-foreground, var(--jp-content-font-color1, white)));\n",
       "    --sklearn-color-background: var(--sg-background-color, var(--theme-background, var(--jp-layout-color0, #111)));\n",
       "    --sklearn-color-border-box: var(--sg-text-color, var(--theme-code-foreground, var(--jp-content-font-color1, white)));\n",
       "    --sklearn-color-icon: #878787;\n",
       "  }\n",
       "}\n",
       "\n",
       "#sk-container-id-3 {\n",
       "  color: var(--sklearn-color-text);\n",
       "}\n",
       "\n",
       "#sk-container-id-3 pre {\n",
       "  padding: 0;\n",
       "}\n",
       "\n",
       "#sk-container-id-3 input.sk-hidden--visually {\n",
       "  border: 0;\n",
       "  clip: rect(1px 1px 1px 1px);\n",
       "  clip: rect(1px, 1px, 1px, 1px);\n",
       "  height: 1px;\n",
       "  margin: -1px;\n",
       "  overflow: hidden;\n",
       "  padding: 0;\n",
       "  position: absolute;\n",
       "  width: 1px;\n",
       "}\n",
       "\n",
       "#sk-container-id-3 div.sk-dashed-wrapped {\n",
       "  border: 1px dashed var(--sklearn-color-line);\n",
       "  margin: 0 0.4em 0.5em 0.4em;\n",
       "  box-sizing: border-box;\n",
       "  padding-bottom: 0.4em;\n",
       "  background-color: var(--sklearn-color-background);\n",
       "}\n",
       "\n",
       "#sk-container-id-3 div.sk-container {\n",
       "  /* jupyter's `normalize.less` sets `[hidden] { display: none; }`\n",
       "     but bootstrap.min.css set `[hidden] { display: none !important; }`\n",
       "     so we also need the `!important` here to be able to override the\n",
       "     default hidden behavior on the sphinx rendered scikit-learn.org.\n",
       "     See: https://github.com/scikit-learn/scikit-learn/issues/21755 */\n",
       "  display: inline-block !important;\n",
       "  position: relative;\n",
       "}\n",
       "\n",
       "#sk-container-id-3 div.sk-text-repr-fallback {\n",
       "  display: none;\n",
       "}\n",
       "\n",
       "div.sk-parallel-item,\n",
       "div.sk-serial,\n",
       "div.sk-item {\n",
       "  /* draw centered vertical line to link estimators */\n",
       "  background-image: linear-gradient(var(--sklearn-color-text-on-default-background), var(--sklearn-color-text-on-default-background));\n",
       "  background-size: 2px 100%;\n",
       "  background-repeat: no-repeat;\n",
       "  background-position: center center;\n",
       "}\n",
       "\n",
       "/* Parallel-specific style estimator block */\n",
       "\n",
       "#sk-container-id-3 div.sk-parallel-item::after {\n",
       "  content: \"\";\n",
       "  width: 100%;\n",
       "  border-bottom: 2px solid var(--sklearn-color-text-on-default-background);\n",
       "  flex-grow: 1;\n",
       "}\n",
       "\n",
       "#sk-container-id-3 div.sk-parallel {\n",
       "  display: flex;\n",
       "  align-items: stretch;\n",
       "  justify-content: center;\n",
       "  background-color: var(--sklearn-color-background);\n",
       "  position: relative;\n",
       "}\n",
       "\n",
       "#sk-container-id-3 div.sk-parallel-item {\n",
       "  display: flex;\n",
       "  flex-direction: column;\n",
       "}\n",
       "\n",
       "#sk-container-id-3 div.sk-parallel-item:first-child::after {\n",
       "  align-self: flex-end;\n",
       "  width: 50%;\n",
       "}\n",
       "\n",
       "#sk-container-id-3 div.sk-parallel-item:last-child::after {\n",
       "  align-self: flex-start;\n",
       "  width: 50%;\n",
       "}\n",
       "\n",
       "#sk-container-id-3 div.sk-parallel-item:only-child::after {\n",
       "  width: 0;\n",
       "}\n",
       "\n",
       "/* Serial-specific style estimator block */\n",
       "\n",
       "#sk-container-id-3 div.sk-serial {\n",
       "  display: flex;\n",
       "  flex-direction: column;\n",
       "  align-items: center;\n",
       "  background-color: var(--sklearn-color-background);\n",
       "  padding-right: 1em;\n",
       "  padding-left: 1em;\n",
       "}\n",
       "\n",
       "\n",
       "/* Toggleable style: style used for estimator/Pipeline/ColumnTransformer box that is\n",
       "clickable and can be expanded/collapsed.\n",
       "- Pipeline and ColumnTransformer use this feature and define the default style\n",
       "- Estimators will overwrite some part of the style using the `sk-estimator` class\n",
       "*/\n",
       "\n",
       "/* Pipeline and ColumnTransformer style (default) */\n",
       "\n",
       "#sk-container-id-3 div.sk-toggleable {\n",
       "  /* Default theme specific background. It is overwritten whether we have a\n",
       "  specific estimator or a Pipeline/ColumnTransformer */\n",
       "  background-color: var(--sklearn-color-background);\n",
       "}\n",
       "\n",
       "/* Toggleable label */\n",
       "#sk-container-id-3 label.sk-toggleable__label {\n",
       "  cursor: pointer;\n",
       "  display: block;\n",
       "  width: 100%;\n",
       "  margin-bottom: 0;\n",
       "  padding: 0.5em;\n",
       "  box-sizing: border-box;\n",
       "  text-align: center;\n",
       "}\n",
       "\n",
       "#sk-container-id-3 label.sk-toggleable__label-arrow:before {\n",
       "  /* Arrow on the left of the label */\n",
       "  content: \"▸\";\n",
       "  float: left;\n",
       "  margin-right: 0.25em;\n",
       "  color: var(--sklearn-color-icon);\n",
       "}\n",
       "\n",
       "#sk-container-id-3 label.sk-toggleable__label-arrow:hover:before {\n",
       "  color: var(--sklearn-color-text);\n",
       "}\n",
       "\n",
       "/* Toggleable content - dropdown */\n",
       "\n",
       "#sk-container-id-3 div.sk-toggleable__content {\n",
       "  max-height: 0;\n",
       "  max-width: 0;\n",
       "  overflow: hidden;\n",
       "  text-align: left;\n",
       "  /* unfitted */\n",
       "  background-color: var(--sklearn-color-unfitted-level-0);\n",
       "}\n",
       "\n",
       "#sk-container-id-3 div.sk-toggleable__content.fitted {\n",
       "  /* fitted */\n",
       "  background-color: var(--sklearn-color-fitted-level-0);\n",
       "}\n",
       "\n",
       "#sk-container-id-3 div.sk-toggleable__content pre {\n",
       "  margin: 0.2em;\n",
       "  border-radius: 0.25em;\n",
       "  color: var(--sklearn-color-text);\n",
       "  /* unfitted */\n",
       "  background-color: var(--sklearn-color-unfitted-level-0);\n",
       "}\n",
       "\n",
       "#sk-container-id-3 div.sk-toggleable__content.fitted pre {\n",
       "  /* unfitted */\n",
       "  background-color: var(--sklearn-color-fitted-level-0);\n",
       "}\n",
       "\n",
       "#sk-container-id-3 input.sk-toggleable__control:checked~div.sk-toggleable__content {\n",
       "  /* Expand drop-down */\n",
       "  max-height: 200px;\n",
       "  max-width: 100%;\n",
       "  overflow: auto;\n",
       "}\n",
       "\n",
       "#sk-container-id-3 input.sk-toggleable__control:checked~label.sk-toggleable__label-arrow:before {\n",
       "  content: \"▾\";\n",
       "}\n",
       "\n",
       "/* Pipeline/ColumnTransformer-specific style */\n",
       "\n",
       "#sk-container-id-3 div.sk-label input.sk-toggleable__control:checked~label.sk-toggleable__label {\n",
       "  color: var(--sklearn-color-text);\n",
       "  background-color: var(--sklearn-color-unfitted-level-2);\n",
       "}\n",
       "\n",
       "#sk-container-id-3 div.sk-label.fitted input.sk-toggleable__control:checked~label.sk-toggleable__label {\n",
       "  background-color: var(--sklearn-color-fitted-level-2);\n",
       "}\n",
       "\n",
       "/* Estimator-specific style */\n",
       "\n",
       "/* Colorize estimator box */\n",
       "#sk-container-id-3 div.sk-estimator input.sk-toggleable__control:checked~label.sk-toggleable__label {\n",
       "  /* unfitted */\n",
       "  background-color: var(--sklearn-color-unfitted-level-2);\n",
       "}\n",
       "\n",
       "#sk-container-id-3 div.sk-estimator.fitted input.sk-toggleable__control:checked~label.sk-toggleable__label {\n",
       "  /* fitted */\n",
       "  background-color: var(--sklearn-color-fitted-level-2);\n",
       "}\n",
       "\n",
       "#sk-container-id-3 div.sk-label label.sk-toggleable__label,\n",
       "#sk-container-id-3 div.sk-label label {\n",
       "  /* The background is the default theme color */\n",
       "  color: var(--sklearn-color-text-on-default-background);\n",
       "}\n",
       "\n",
       "/* On hover, darken the color of the background */\n",
       "#sk-container-id-3 div.sk-label:hover label.sk-toggleable__label {\n",
       "  color: var(--sklearn-color-text);\n",
       "  background-color: var(--sklearn-color-unfitted-level-2);\n",
       "}\n",
       "\n",
       "/* Label box, darken color on hover, fitted */\n",
       "#sk-container-id-3 div.sk-label.fitted:hover label.sk-toggleable__label.fitted {\n",
       "  color: var(--sklearn-color-text);\n",
       "  background-color: var(--sklearn-color-fitted-level-2);\n",
       "}\n",
       "\n",
       "/* Estimator label */\n",
       "\n",
       "#sk-container-id-3 div.sk-label label {\n",
       "  font-family: monospace;\n",
       "  font-weight: bold;\n",
       "  display: inline-block;\n",
       "  line-height: 1.2em;\n",
       "}\n",
       "\n",
       "#sk-container-id-3 div.sk-label-container {\n",
       "  text-align: center;\n",
       "}\n",
       "\n",
       "/* Estimator-specific */\n",
       "#sk-container-id-3 div.sk-estimator {\n",
       "  font-family: monospace;\n",
       "  border: 1px dotted var(--sklearn-color-border-box);\n",
       "  border-radius: 0.25em;\n",
       "  box-sizing: border-box;\n",
       "  margin-bottom: 0.5em;\n",
       "  /* unfitted */\n",
       "  background-color: var(--sklearn-color-unfitted-level-0);\n",
       "}\n",
       "\n",
       "#sk-container-id-3 div.sk-estimator.fitted {\n",
       "  /* fitted */\n",
       "  background-color: var(--sklearn-color-fitted-level-0);\n",
       "}\n",
       "\n",
       "/* on hover */\n",
       "#sk-container-id-3 div.sk-estimator:hover {\n",
       "  /* unfitted */\n",
       "  background-color: var(--sklearn-color-unfitted-level-2);\n",
       "}\n",
       "\n",
       "#sk-container-id-3 div.sk-estimator.fitted:hover {\n",
       "  /* fitted */\n",
       "  background-color: var(--sklearn-color-fitted-level-2);\n",
       "}\n",
       "\n",
       "/* Specification for estimator info (e.g. \"i\" and \"?\") */\n",
       "\n",
       "/* Common style for \"i\" and \"?\" */\n",
       "\n",
       ".sk-estimator-doc-link,\n",
       "a:link.sk-estimator-doc-link,\n",
       "a:visited.sk-estimator-doc-link {\n",
       "  float: right;\n",
       "  font-size: smaller;\n",
       "  line-height: 1em;\n",
       "  font-family: monospace;\n",
       "  background-color: var(--sklearn-color-background);\n",
       "  border-radius: 1em;\n",
       "  height: 1em;\n",
       "  width: 1em;\n",
       "  text-decoration: none !important;\n",
       "  margin-left: 1ex;\n",
       "  /* unfitted */\n",
       "  border: var(--sklearn-color-unfitted-level-1) 1pt solid;\n",
       "  color: var(--sklearn-color-unfitted-level-1);\n",
       "}\n",
       "\n",
       ".sk-estimator-doc-link.fitted,\n",
       "a:link.sk-estimator-doc-link.fitted,\n",
       "a:visited.sk-estimator-doc-link.fitted {\n",
       "  /* fitted */\n",
       "  border: var(--sklearn-color-fitted-level-1) 1pt solid;\n",
       "  color: var(--sklearn-color-fitted-level-1);\n",
       "}\n",
       "\n",
       "/* On hover */\n",
       "div.sk-estimator:hover .sk-estimator-doc-link:hover,\n",
       ".sk-estimator-doc-link:hover,\n",
       "div.sk-label-container:hover .sk-estimator-doc-link:hover,\n",
       ".sk-estimator-doc-link:hover {\n",
       "  /* unfitted */\n",
       "  background-color: var(--sklearn-color-unfitted-level-3);\n",
       "  color: var(--sklearn-color-background);\n",
       "  text-decoration: none;\n",
       "}\n",
       "\n",
       "div.sk-estimator.fitted:hover .sk-estimator-doc-link.fitted:hover,\n",
       ".sk-estimator-doc-link.fitted:hover,\n",
       "div.sk-label-container:hover .sk-estimator-doc-link.fitted:hover,\n",
       ".sk-estimator-doc-link.fitted:hover {\n",
       "  /* fitted */\n",
       "  background-color: var(--sklearn-color-fitted-level-3);\n",
       "  color: var(--sklearn-color-background);\n",
       "  text-decoration: none;\n",
       "}\n",
       "\n",
       "/* Span, style for the box shown on hovering the info icon */\n",
       ".sk-estimator-doc-link span {\n",
       "  display: none;\n",
       "  z-index: 9999;\n",
       "  position: relative;\n",
       "  font-weight: normal;\n",
       "  right: .2ex;\n",
       "  padding: .5ex;\n",
       "  margin: .5ex;\n",
       "  width: min-content;\n",
       "  min-width: 20ex;\n",
       "  max-width: 50ex;\n",
       "  color: var(--sklearn-color-text);\n",
       "  box-shadow: 2pt 2pt 4pt #999;\n",
       "  /* unfitted */\n",
       "  background: var(--sklearn-color-unfitted-level-0);\n",
       "  border: .5pt solid var(--sklearn-color-unfitted-level-3);\n",
       "}\n",
       "\n",
       ".sk-estimator-doc-link.fitted span {\n",
       "  /* fitted */\n",
       "  background: var(--sklearn-color-fitted-level-0);\n",
       "  border: var(--sklearn-color-fitted-level-3);\n",
       "}\n",
       "\n",
       ".sk-estimator-doc-link:hover span {\n",
       "  display: block;\n",
       "}\n",
       "\n",
       "/* \"?\"-specific style due to the `<a>` HTML tag */\n",
       "\n",
       "#sk-container-id-3 a.estimator_doc_link {\n",
       "  float: right;\n",
       "  font-size: 1rem;\n",
       "  line-height: 1em;\n",
       "  font-family: monospace;\n",
       "  background-color: var(--sklearn-color-background);\n",
       "  border-radius: 1rem;\n",
       "  height: 1rem;\n",
       "  width: 1rem;\n",
       "  text-decoration: none;\n",
       "  /* unfitted */\n",
       "  color: var(--sklearn-color-unfitted-level-1);\n",
       "  border: var(--sklearn-color-unfitted-level-1) 1pt solid;\n",
       "}\n",
       "\n",
       "#sk-container-id-3 a.estimator_doc_link.fitted {\n",
       "  /* fitted */\n",
       "  border: var(--sklearn-color-fitted-level-1) 1pt solid;\n",
       "  color: var(--sklearn-color-fitted-level-1);\n",
       "}\n",
       "\n",
       "/* On hover */\n",
       "#sk-container-id-3 a.estimator_doc_link:hover {\n",
       "  /* unfitted */\n",
       "  background-color: var(--sklearn-color-unfitted-level-3);\n",
       "  color: var(--sklearn-color-background);\n",
       "  text-decoration: none;\n",
       "}\n",
       "\n",
       "#sk-container-id-3 a.estimator_doc_link.fitted:hover {\n",
       "  /* fitted */\n",
       "  background-color: var(--sklearn-color-fitted-level-3);\n",
       "}\n",
       "</style><div id=\"sk-container-id-3\" class=\"sk-top-container\"><div class=\"sk-text-repr-fallback\"><pre>AgglomerativeClustering(n_clusters=4)</pre><b>In a Jupyter environment, please rerun this cell to show the HTML representation or trust the notebook. <br />On GitHub, the HTML representation is unable to render, please try loading this page with nbviewer.org.</b></div><div class=\"sk-container\" hidden><div class=\"sk-item\"><div class=\"sk-estimator fitted sk-toggleable\"><input class=\"sk-toggleable__control sk-hidden--visually\" id=\"sk-estimator-id-3\" type=\"checkbox\" checked><label for=\"sk-estimator-id-3\" class=\"sk-toggleable__label fitted sk-toggleable__label-arrow fitted\">&nbsp;&nbsp;AgglomerativeClustering<a class=\"sk-estimator-doc-link fitted\" rel=\"noreferrer\" target=\"_blank\" href=\"https://scikit-learn.org/1.4/modules/generated/sklearn.cluster.AgglomerativeClustering.html\">?<span>Documentation for AgglomerativeClustering</span></a><span class=\"sk-estimator-doc-link fitted\">i<span>Fitted</span></span></label><div class=\"sk-toggleable__content fitted\"><pre>AgglomerativeClustering(n_clusters=4)</pre></div> </div></div></div></div>"
      ],
      "text/plain": [
       "AgglomerativeClustering(n_clusters=4)"
      ]
     },
     "execution_count": 44,
     "metadata": {},
     "output_type": "execute_result"
    }
   ],
   "source": [
    "X = df.drop(columns=['Index', 'Category'])\n",
    "scaler = StandardScaler()\n",
    "X_scaled = scaler.fit_transform(X)\n",
    "\n",
    "agg_clustering = AgglomerativeClustering(n_clusters=4, linkage='ward') # initialize HAC\n",
    "agg_clustering.fit(X) # perform HAC"
   ]
  },
  {
   "cell_type": "markdown",
   "id": "239ffc66-43c9-4461-a0e9-1bafff57d8e4",
   "metadata": {},
   "source": [
    "### 4.0 Result Evaluation"
   ]
  },
  {
   "cell_type": "markdown",
   "id": "c21d57c2-70aa-4532-b68b-056792f76411",
   "metadata": {},
   "source": [
    "### 4.1 Evaluation by sight"
   ]
  },
  {
   "cell_type": "code",
   "execution_count": 45,
   "id": "cdda3087-ecea-478c-b311-3af0cb2be77a",
   "metadata": {},
   "outputs": [],
   "source": [
    "cluster_labels = agg_clustering.labels_"
   ]
  },
  {
   "cell_type": "code",
   "execution_count": 46,
   "id": "65da6058-36f6-4542-9f75-42d0a207d094",
   "metadata": {},
   "outputs": [
    {
     "data": {
      "text/plain": [
       "array([0, 0, 0, 0, 0, 0, 0, 0, 0, 0, 0, 0, 0, 0, 0, 0, 0, 0, 0, 0, 0, 0,\n",
       "       0, 0, 0, 0, 2, 0, 0, 0, 0, 0, 0, 0, 0, 0, 0, 3, 0, 0, 0, 0, 0, 0,\n",
       "       0, 0, 0, 0, 0, 0, 2, 2, 2, 2, 2, 2, 2, 2, 2, 2, 2, 2, 2, 2, 2, 2,\n",
       "       2, 2, 2, 2, 2, 2, 2, 2, 2, 2, 2, 2, 2, 2, 2, 2, 2, 2, 2, 2, 2, 2,\n",
       "       2, 2, 2, 2, 2, 2, 2, 2, 3, 3, 3, 3, 3, 3, 3, 1, 3, 3, 3, 1, 1, 1,\n",
       "       3, 3, 3, 3, 3, 3, 2, 2, 1, 3, 3, 2, 2, 3, 3, 1, 1, 1, 1, 1, 1, 3,\n",
       "       3, 3, 3, 1, 1, 2, 1, 1, 1, 1, 1, 1, 3, 3, 3, 2, 3, 1, 1, 3, 3, 3,\n",
       "       2, 2, 2, 1, 1, 1, 1, 2, 2, 2, 1, 1, 1, 1, 1, 3, 2, 2, 2, 2, 2, 2,\n",
       "       1, 1, 3, 3, 1, 1, 1, 2, 1, 1, 1, 1, 1, 1, 1, 1, 1, 3, 1, 1, 3, 3,\n",
       "       3, 1], dtype=int64)"
      ]
     },
     "execution_count": 46,
     "metadata": {},
     "output_type": "execute_result"
    }
   ],
   "source": [
    "cluster_labels # display clsutered label"
   ]
  },
  {
   "cell_type": "code",
   "execution_count": 47,
   "id": "6a5e5627-dc19-4e3a-a026-76e02e76db64",
   "metadata": {},
   "outputs": [
    {
     "data": {
      "text/plain": [
       "array([0, 0, 0, 0, 0, 0, 0, 0, 0, 0, 0, 0, 0, 0, 0, 0, 0, 0, 0, 0, 0, 0,\n",
       "       0, 0, 0, 0, 0, 0, 0, 0, 0, 0, 0, 0, 0, 0, 0, 0, 0, 0, 0, 0, 0, 0,\n",
       "       0, 0, 0, 0, 0, 0, 1, 1, 1, 1, 1, 1, 1, 1, 1, 1, 1, 1, 1, 1, 1, 1,\n",
       "       1, 1, 1, 1, 1, 1, 1, 1, 1, 1, 1, 1, 1, 1, 1, 1, 1, 1, 1, 1, 1, 1,\n",
       "       1, 1, 1, 1, 1, 1, 1, 1, 1, 1, 1, 1, 2, 2, 2, 2, 2, 2, 2, 2, 2, 2,\n",
       "       2, 2, 2, 2, 2, 2, 2, 2, 2, 2, 2, 2, 2, 2, 2, 2, 2, 2, 2, 2, 2, 2,\n",
       "       2, 2, 2, 2, 2, 2, 2, 2, 2, 2, 2, 2, 2, 2, 2, 2, 2, 2, 3, 3, 3, 3,\n",
       "       3, 3, 3, 3, 3, 3, 3, 3, 3, 3, 3, 3, 3, 3, 3, 3, 3, 3, 3, 3, 3, 3,\n",
       "       3, 3, 3, 3, 3, 3, 3, 3, 3, 3, 3, 3, 3, 3, 3, 3, 3, 3, 3, 3, 3, 3,\n",
       "       3, 3], dtype=int64)"
      ]
     },
     "execution_count": 47,
     "metadata": {},
     "output_type": "execute_result"
    }
   ],
   "source": [
    "ground_truth # display ground truth"
   ]
  },
  {
   "cell_type": "code",
   "execution_count": 48,
   "id": "a778a2ca-5808-4a82-a9d4-517e353a027f",
   "metadata": {},
   "outputs": [
    {
     "data": {
      "text/plain": [
       "array([0, 0, 0, 0, 0, 0, 0, 0, 0, 0, 0, 0, 0, 0, 0, 0, 0, 0, 0, 0, 0, 0,\n",
       "       0, 0, 0, 0, 1, 0, 0, 0, 0, 0, 0, 0, 0, 0, 0, 2, 0, 0, 0, 0, 0, 0,\n",
       "       0, 0, 0, 0, 0, 0, 1, 1, 1, 1, 1, 1, 1, 1, 1, 1, 1, 1, 1, 1, 1, 1,\n",
       "       1, 1, 1, 1, 1, 1, 1, 1, 1, 1, 1, 1, 1, 1, 1, 1, 1, 1, 1, 1, 1, 1,\n",
       "       1, 1, 1, 1, 1, 1, 1, 1, 2, 2, 2, 2, 2, 2, 2, 3, 2, 2, 2, 3, 3, 3,\n",
       "       2, 2, 2, 2, 2, 2, 1, 1, 3, 2, 2, 1, 1, 2, 2, 3, 3, 3, 3, 3, 3, 2,\n",
       "       2, 2, 2, 3, 3, 1, 3, 3, 3, 3, 3, 3, 2, 2, 2, 1, 2, 3, 3, 2, 2, 2,\n",
       "       1, 1, 1, 3, 3, 3, 3, 1, 1, 1, 3, 3, 3, 3, 3, 2, 1, 1, 1, 1, 1, 1,\n",
       "       3, 3, 2, 2, 3, 3, 3, 1, 3, 3, 3, 3, 3, 3, 3, 3, 3, 2, 3, 3, 2, 2,\n",
       "       2, 3], dtype=int64)"
      ]
     },
     "execution_count": 48,
     "metadata": {},
     "output_type": "execute_result"
    }
   ],
   "source": [
    "new_cluster_labels = category_modification_by_sight(cluster_labels, [0, 3, 1, 2])\n",
    "new_cluster_labels"
   ]
  },
  {
   "cell_type": "code",
   "execution_count": 49,
   "id": "00642dde-b5ba-4205-a5b6-9b0974fc0295",
   "metadata": {},
   "outputs": [
    {
     "data": {
      "text/plain": [
       "array([0, 0, 0, 0, 0, 0, 0, 0, 0, 0, 0, 0, 0, 0, 0, 0, 0, 0, 0, 0, 0, 0,\n",
       "       0, 0, 0, 0, 0, 0, 0, 0, 0, 0, 0, 0, 0, 0, 0, 0, 0, 0, 0, 0, 0, 0,\n",
       "       0, 0, 0, 0, 0, 0, 1, 1, 1, 1, 1, 1, 1, 1, 1, 1, 1, 1, 1, 1, 1, 1,\n",
       "       1, 1, 1, 1, 1, 1, 1, 1, 1, 1, 1, 1, 1, 1, 1, 1, 1, 1, 1, 1, 1, 1,\n",
       "       1, 1, 1, 1, 1, 1, 1, 1, 1, 1, 1, 1, 2, 2, 2, 2, 2, 2, 2, 2, 2, 2,\n",
       "       2, 2, 2, 2, 2, 2, 2, 2, 2, 2, 2, 2, 2, 2, 2, 2, 2, 2, 2, 2, 2, 2,\n",
       "       2, 2, 2, 2, 2, 2, 2, 2, 2, 2, 2, 2, 2, 2, 2, 2, 2, 2, 3, 3, 3, 3,\n",
       "       3, 3, 3, 3, 3, 3, 3, 3, 3, 3, 3, 3, 3, 3, 3, 3, 3, 3, 3, 3, 3, 3,\n",
       "       3, 3, 3, 3, 3, 3, 3, 3, 3, 3, 3, 3, 3, 3, 3, 3, 3, 3, 3, 3, 3, 3,\n",
       "       3, 3], dtype=int64)"
      ]
     },
     "execution_count": 49,
     "metadata": {},
     "output_type": "execute_result"
    }
   ],
   "source": [
    "ground_truth "
   ]
  },
  {
   "cell_type": "code",
   "execution_count": 50,
   "id": "f5027459-2ea6-4944-b4a0-100cdbdaacb5",
   "metadata": {},
   "outputs": [
    {
     "name": "stdout",
     "output_type": "stream",
     "text": [
      "0.725\n"
     ]
    }
   ],
   "source": [
    "accuracy = custom_accuracy_scores(new_cluster_labels, ground_truth)\n",
    "print(accuracy)"
   ]
  },
  {
   "cell_type": "markdown",
   "id": "eea7d8df-ba75-40b4-9311-a18a585578ec",
   "metadata": {},
   "source": [
    "### 4.2 Evaluation by scipy module"
   ]
  },
  {
   "cell_type": "code",
   "execution_count": 51,
   "id": "12ddd31b-36bb-4640-ae0b-4d6ab9134353",
   "metadata": {},
   "outputs": [],
   "source": [
    "contingency_matrix = pd.crosstab(df['Category'], cluster_labels)\n",
    "row_idx, col_idx = linear_sum_assignment(-contingency_matrix.values)\n",
    "\n",
    "mapped_labels = np.zeros_like(cluster_labels)\n",
    "for i, col in enumerate(col_idx):\n",
    "    mapped_labels[cluster_labels == col] = row_idx[i]"
   ]
  },
  {
   "cell_type": "code",
   "execution_count": 52,
   "id": "cb0ca7b6-3418-4bf5-a2c4-4f694f4b7f63",
   "metadata": {},
   "outputs": [
    {
     "name": "stdout",
     "output_type": "stream",
     "text": [
      "Accuracy: 0.725\n"
     ]
    }
   ],
   "source": [
    "accuracy = accuracy_score(df['Category'], mapped_labels)\n",
    "print(\"Accuracy:\", accuracy) # final accuracy equivalaent to \"category_modification_by_sight\""
   ]
  },
  {
   "cell_type": "markdown",
   "id": "0a915e90-7193-4130-900d-e957fd880fb2",
   "metadata": {},
   "source": [
    "### 4.3 Silhouette Score"
   ]
  },
  {
   "cell_type": "code",
   "execution_count": 53,
   "id": "f71cc471-4e79-46dd-85bc-4214144a0b44",
   "metadata": {},
   "outputs": [
    {
     "name": "stdout",
     "output_type": "stream",
     "text": [
      "Silhouette Score: 0.31222958144663876\n"
     ]
    }
   ],
   "source": [
    "ground_truth_2d = ground_truth.reshape(-1, 1)  # Reshape ground_truth to have one feature per sample\n",
    "silhouette_score_value = silhouette_score(ground_truth_2d, cluster_labels)\n",
    "print(\"Silhouette Score:\", silhouette_score_value)"
   ]
  },
  {
   "cell_type": "markdown",
   "id": "ad4bfc71-80ea-461f-9178-eb91a5968cad",
   "metadata": {},
   "source": [
    "### 4.4 Davies Bouldin Score"
   ]
  },
  {
   "cell_type": "code",
   "execution_count": 54,
   "id": "b379c169-98e3-4be2-88ef-55277cb5bca2",
   "metadata": {},
   "outputs": [
    {
     "name": "stdout",
     "output_type": "stream",
     "text": [
      "Davies-Bouldin Index: 2.6172218661785127\n"
     ]
    }
   ],
   "source": [
    "davies_bouldin_score_value = davies_bouldin_score(X, cluster_labels)\n",
    "print(\"Davies-Bouldin Index:\", davies_bouldin_score_value)"
   ]
  },
  {
   "cell_type": "markdown",
   "id": "2d123d5f-303b-4a1d-a2bc-4e9921f2d71b",
   "metadata": {},
   "source": [
    "### 4.5 Adjusted Rand Index (ARI)"
   ]
  },
  {
   "cell_type": "code",
   "execution_count": 55,
   "id": "6326694f-d6ea-4542-9273-0ce8079feec0",
   "metadata": {},
   "outputs": [
    {
     "name": "stdout",
     "output_type": "stream",
     "text": [
      "ARI: 0.4994592852899419\n"
     ]
    }
   ],
   "source": [
    "ari = adjusted_rand_score(ground_truth, cluster_labels)\n",
    "print(\"ARI:\", ari)"
   ]
  },
  {
   "cell_type": "markdown",
   "id": "27023d11-7d79-4117-af86-9efbdfad7985",
   "metadata": {},
   "source": [
    "### 4.6 Normalized Mutual Information (NMI)"
   ]
  },
  {
   "cell_type": "code",
   "execution_count": 56,
   "id": "36c3ccd6-2775-4eba-9924-207158742f5e",
   "metadata": {},
   "outputs": [
    {
     "name": "stdout",
     "output_type": "stream",
     "text": [
      "Normalized Mutual Information (NMI): 0.5478505009163762\n"
     ]
    }
   ],
   "source": [
    "nmi = normalized_mutual_info_score(ground_truth, cluster_labels)\n",
    "print(f\"Normalized Mutual Information (NMI): {nmi}\")"
   ]
  },
  {
   "cell_type": "markdown",
   "id": "1f7bf919-9a4d-40f3-964c-432a71946dd9",
   "metadata": {},
   "source": [
    "### 4.7 Cluster Purity"
   ]
  },
  {
   "cell_type": "code",
   "execution_count": 57,
   "id": "f274b1b2-6de7-4173-bf32-8ca3c1295881",
   "metadata": {},
   "outputs": [
    {
     "name": "stdout",
     "output_type": "stream",
     "text": [
      "Cluster Purity: 0.72\n"
     ]
    }
   ],
   "source": [
    "purity = cluster_purity(ground_truth, cluster_labels)\n",
    "print(f\"Cluster Purity: {purity:.2f}\")"
   ]
  },
  {
   "cell_type": "markdown",
   "id": "4598e2f8-010f-42e3-9aae-8e05dd86b0eb",
   "metadata": {},
   "source": [
    "### 5.0 Silhouette Plot"
   ]
  },
  {
   "cell_type": "code",
   "execution_count": 61,
   "id": "602a117b-8b16-4bb1-bf6b-9094428b9d10",
   "metadata": {},
   "outputs": [
    {
     "data": {
      "image/png": "[encoded data removed]",
      "text/plain": [
       "<Figure size 800x600 with 1 Axes>"
      ]
     },
     "metadata": {},
     "output_type": "display_data"
    }
   ],
   "source": [
    "silhouette_vals = silhouette_samples(X, cluster_labels)\n",
    "silhouette_avg = silhouette_score(X, cluster_labels)\n",
    "\n",
    "fig, ax = plt.subplots(figsize=(8, 6))\n",
    "y_ticks = []\n",
    "y_lower = 10\n",
    "for i in range(k):\n",
    "    cluster_silhouette_vals = silhouette_vals[cluster_labels == i]\n",
    "    cluster_silhouette_vals.sort()\n",
    "    y_upper = y_lower + len(cluster_silhouette_vals)\n",
    "    color = cm.nipy_spectral(float(i) / k)\n",
    "    ax.fill_betweenx(np.arange(y_lower, y_upper),\n",
    "                      0, cluster_silhouette_vals,\n",
    "                      facecolor=color, edgecolor=color, alpha=0.7)\n",
    "    ax.text(-0.05, y_lower + 0.5 * len(cluster_silhouette_vals), str(i))\n",
    "    y_lower = y_upper + 10\n",
    "\n",
    "ax.set_title('Silhouette Plot for HA Clustering')\n",
    "ax.set_xlabel('Silhouette coefficient')\n",
    "ax.set_ylabel('Cluster label')\n",
    "ax.axvline(x=silhouette_avg, color=\"red\", linestyle=\"--\")\n",
    "ax.set_yticks([])\n",
    "ax.set_xlim([-0.1, 1])\n",
    "plt.show()"
   ]
  },
  {
   "cell_type": "markdown",
   "id": "594ece16-2bf4-4195-a9bd-38401517fb99",
   "metadata": {},
   "source": [
    "### 6.0 Principal Component Analysis (PCA)"
   ]
  },
  {
   "cell_type": "code",
   "execution_count": 64,
   "id": "f7a21e10-1785-44b8-ad47-2a09719879fc",
   "metadata": {},
   "outputs": [
    {
     "name": "stdout",
     "output_type": "stream",
     "text": [
      "Accuracy: 0.725\n",
      "Silhouette Score: 0.32335121045077675\n",
      "Davies-Bouldin Index: 2.80665917450031\n",
      "ARI: 0.49737648505154675\n",
      "Normalized Mutual Information (NMI): 0.5423444236195095\n",
      "Cluster Purity: 0.72\n"
     ]
    }
   ],
   "source": [
    "X = df.drop(columns=['Index', 'Category'])\n",
    "pca = PCA(n_components=10)  # Reduce to 2 principal components\n",
    "data_pca = pca.fit_transform(X) # PCA\n",
    "\n",
    "agg_clustering = AgglomerativeClustering(n_clusters=4, linkage='ward') # initialize HAC\n",
    "agg_clustering.fit(data_pca) # perform HAC\n",
    "\n",
    "cluster_labels = agg_clustering.labels_\n",
    "\n",
    "contingency_matrix = pd.crosstab(df['Category'], cluster_labels)\n",
    "row_idx, col_idx = linear_sum_assignment(-contingency_matrix.values)\n",
    "\n",
    "mapped_labels = np.zeros_like(cluster_labels)\n",
    "for i, col in enumerate(col_idx):\n",
    "    mapped_labels[cluster_labels == col] = row_idx[i]\n",
    "    \n",
    "accuracy = accuracy_score(df['Category'], mapped_labels)\n",
    "print(\"Accuracy:\", accuracy) # final accuracy equivalaent to \"category_modification_by_sight\"\n",
    "\n",
    "ground_truth_2d = ground_truth.reshape(-1, 1)  # Reshape ground_truth to have one feature per sample\n",
    "silhouette_score_value = silhouette_score(ground_truth_2d, cluster_labels)\n",
    "print(\"Silhouette Score:\", silhouette_score_value)\n",
    "\n",
    "davies_bouldin_score_value = davies_bouldin_score(X, cluster_labels)\n",
    "print(\"Davies-Bouldin Index:\", davies_bouldin_score_value)\n",
    "\n",
    "ari = adjusted_rand_score(ground_truth, cluster_labels)\n",
    "print(\"ARI:\", ari)\n",
    "\n",
    "nmi = normalized_mutual_info_score(ground_truth, cluster_labels)\n",
    "print(f\"Normalized Mutual Information (NMI): {nmi}\")\n",
    "\n",
    "purity = cluster_purity(ground_truth, cluster_labels)\n",
    "print(f\"Cluster Purity: {purity:.2f}\")"
   ]
  },
  {
   "cell_type": "code",
   "execution_count": 62,
   "id": "f0eabdcf-deeb-4532-8a8f-ba00f86189b1",
   "metadata": {},
   "outputs": [
    {
     "data": {
      "image/png": "[encoded data removed]",
      "text/plain": [
       "<Figure size 800x600 with 1 Axes>"
      ]
     },
     "metadata": {},
     "output_type": "display_data"
    }
   ],
   "source": [
    "silhouette_vals = silhouette_samples(X, cluster_labels)\n",
    "silhouette_avg = silhouette_score(X, cluster_labels)\n",
    "\n",
    "fig, ax = plt.subplots(figsize=(8, 6))\n",
    "y_ticks = []\n",
    "y_lower = 10\n",
    "for i in range(k):\n",
    "    cluster_silhouette_vals = silhouette_vals[cluster_labels == i]\n",
    "    cluster_silhouette_vals.sort()\n",
    "    y_upper = y_lower + len(cluster_silhouette_vals)\n",
    "    color = cm.nipy_spectral(float(i) / k)\n",
    "    ax.fill_betweenx(np.arange(y_lower, y_upper),\n",
    "                      0, cluster_silhouette_vals,\n",
    "                      facecolor=color, edgecolor=color, alpha=0.7)\n",
    "    ax.text(-0.05, y_lower + 0.5 * len(cluster_silhouette_vals), str(i))\n",
    "    y_lower = y_upper + 10\n",
    "\n",
    "ax.set_title('Silhouette Plot for HA Clustering')\n",
    "ax.set_xlabel('Silhouette coefficient')\n",
    "ax.set_ylabel('Cluster label')\n",
    "ax.axvline(x=silhouette_avg, color=\"red\", linestyle=\"--\")\n",
    "ax.set_yticks([])\n",
    "ax.set_xlim([-0.1, 1])\n",
    "plt.show()"
   ]
  },
  {
   "cell_type": "code",
   "execution_count": null,
   "id": "35d02b05-2577-491c-bcad-be143a92f6af",
   "metadata": {},
   "outputs": [],
   "source": []
  },
  {
   "cell_type": "markdown",
   "id": "2ce020c8-34b7-48b0-98b2-8b5cf182442c",
   "metadata": {},
   "source": [
    "## 8.0 UML_1 Summary:"
   ]
  },
  {
   "cell_type": "raw",
   "id": "568a84ad-6f8f-4fdb-ad78-daa40ddf062c",
   "metadata": {},
   "source": [
    "silhouette score:\n",
    "high indicates well separated clusters\n",
    "low indicates overlapping clusters\n",
    "\n",
    "davies douldin score:\n",
    "high indicates bad separation between clusters\n",
    "low indicates good separation between clusters\n",
    "\n",
    "ari:\n",
    "close to 1 indicates strong agreement between true and predicted clusters\n",
    "\n",
    "nmi:\n",
    "close to 1 indicates strong agreement between true and predicted clusters\n",
    "\n",
    "cluster purity:\n",
    "close to 1 indicates higher purity by checking the majority class in each cluster compared to true labels"
   ]
  },
  {
   "cell_type": "raw",
   "id": "e5470b7b-5929-4b6a-941f-7e6d81f08e8c",
   "metadata": {},
   "source": [
    "Part 1: K-means clustering:\n",
    "kmc:\n",
    "accuracy: 0.71 (above average)\n",
    "silhouette score: 0.2900141806774307 (below average)\n",
    "davies bouldin score: 2.612860406970152 (bad)\n",
    "ari: 0.48541501649666136 (average)\n",
    "nmi: 0.5263556756551566 (average)\n",
    "cluster purity: 0.71 (above average)\n",
    "\n",
    "kmc (pac):\n",
    "accuracy: 0.73 (above average)\n",
    "silhouette score: 0.32779087393429057 (below average)\n",
    "davies bouldin score: 2.73175296768834 (bad)\n",
    "ari: 0.5069346842796405 (average)\n",
    "nmi: 0.548161712517762 (average)\n",
    "cluster purity: 0.73 (above average)\n",
    "\n",
    "kmc vs kmc(pac):\n",
    "the performance of kmc is considered moderately good. The PAC reduces the dimensionality of input data, leading to slightly improvement in overall scores. "
   ]
  },
  {
   "cell_type": "raw",
   "id": "ea1af758-7249-4999-bc7f-ede55eeace6b",
   "metadata": {},
   "source": [
    "Part 2: Hierarchical Agglomerative Clustering:\n",
    "hac:\n",
    "accuracy: 0.725 (above average)\n",
    "silhouette score: 0.31222958144663876 (below average)\n",
    "davies bouldin score: 2.6172218661785127 (bad)\n",
    "ari: 0.4994592852899419 (average)\n",
    "nmi: 0.5478505009163762 (average)\n",
    "cluster purity: 0.72 (above average)\n",
    "\n",
    "hac (pac):\n",
    "accuracy: 0.725 (above average)\n",
    "silhouette score: 0.32335121045077675 (below average)\n",
    "davies bouldin score: 2.80665917450031 (bad)\n",
    "ari: 0.49737648505154675 (average)\n",
    "nmi: 0.5423444236195095 (average)\n",
    "cluster purity: 0.72 (above average)\n",
    "\n",
    "hac vs hac (pac):\n",
    "the performance of hac is considered moderately good. The PAC reduces the dimensionality of input data, however it does not lead to significant chagne in overall scores."
   ]
  },
  {
   "cell_type": "raw",
   "id": "48b7893c-9ff4-4004-8b4d-ef6f0b22d951",
   "metadata": {},
   "source": [
    "kmc vs hac:\n",
    "There is no siginificant difference in performance between two algorithms. "
   ]
  },
  {
   "cell_type": "code",
   "execution_count": null,
   "id": "0fda5a6c-7813-412f-8da1-811b4629e931",
   "metadata": {},
   "outputs": [],
   "source": []
  },
  {
   "cell_type": "code",
   "execution_count": null,
   "id": "9730011e-7e52-4d97-ab5d-ebc7655aa859",
   "metadata": {},
   "outputs": [],
   "source": []
  }
 ],
 "metadata": {
  "kernelspec": {
   "display_name": "Python 3 (ipykernel)",
   "language": "python",
   "name": "python3"
  },
  "language_info": {
   "codemirror_mode": {
    "name": "ipython",
    "version": 3
   },
   "file_extension": ".py",
   "mimetype": "text/x-python",
   "name": "python",
   "nbconvert_exporter": "python",
   "pygments_lexer": "ipython3",
   "version": "3.11.0"
  }
 },
 "nbformat": 4,
 "nbformat_minor": 5
}
